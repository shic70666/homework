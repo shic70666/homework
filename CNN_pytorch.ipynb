{
 "cells": [
  {
   "cell_type": "code",
   "execution_count": 14,
   "metadata": {},
   "outputs": [
    {
     "ename": "NameError",
     "evalue": "name '_C' is not defined",
     "output_type": "error",
     "traceback": [
      "\u001b[0;31m---------------------------------------------------------------------------\u001b[0m",
      "\u001b[0;31mNameError\u001b[0m                                 Traceback (most recent call last)",
      "\u001b[1;32m/Users/shic/Codes/personal/Homework/CNN_pytorch.ipynb Cell 1'\u001b[0m in \u001b[0;36m<module>\u001b[0;34m\u001b[0m\n\u001b[0;32m----> <a href='vscode-notebook-cell:/Users/shic/Codes/personal/Homework/CNN_pytorch.ipynb#ch0000000?line=0'>1</a>\u001b[0m \u001b[39mimport\u001b[39;00m \u001b[39mtorch\u001b[39;00m\n\u001b[1;32m      <a href='vscode-notebook-cell:/Users/shic/Codes/personal/Homework/CNN_pytorch.ipynb#ch0000000?line=1'>2</a>\u001b[0m \u001b[39mprint\u001b[39m(torch\u001b[39m.\u001b[39m__version__)\n",
      "File \u001b[0;32m/usr/local/anaconda3/envs/cshi/lib/python3.8/site-packages/torch/__init__.py:229\u001b[0m, in \u001b[0;36m<module>\u001b[0;34m\u001b[0m\n\u001b[1;32m    <a href='file:///usr/local/anaconda3/envs/cshi/lib/python3.8/site-packages/torch/__init__.py?line=213'>214</a>\u001b[0m         \u001b[39mraise\u001b[39;00m \u001b[39mImportError\u001b[39;00m(textwrap\u001b[39m.\u001b[39mdedent(\u001b[39m'''\u001b[39m\n\u001b[1;32m    <a href='file:///usr/local/anaconda3/envs/cshi/lib/python3.8/site-packages/torch/__init__.py?line=214'>215</a>\u001b[0m \u001b[39m            Failed to load PyTorch C extensions:\u001b[39m\n\u001b[1;32m    <a href='file:///usr/local/anaconda3/envs/cshi/lib/python3.8/site-packages/torch/__init__.py?line=215'>216</a>\u001b[0m \u001b[39m                It appears that PyTorch has loaded the `torch/_C` folder\u001b[39m\n\u001b[0;32m   (...)\u001b[0m\n\u001b[1;32m    <a href='file:///usr/local/anaconda3/envs/cshi/lib/python3.8/site-packages/torch/__init__.py?line=223'>224</a>\u001b[0m \u001b[39m                or by running Python from a different directory.\u001b[39m\n\u001b[1;32m    <a href='file:///usr/local/anaconda3/envs/cshi/lib/python3.8/site-packages/torch/__init__.py?line=224'>225</a>\u001b[0m \u001b[39m            \u001b[39m\u001b[39m'''\u001b[39m)\u001b[39m.\u001b[39mstrip()) \u001b[39mfrom\u001b[39;00m \u001b[39mNone\u001b[39m\n\u001b[1;32m    <a href='file:///usr/local/anaconda3/envs/cshi/lib/python3.8/site-packages/torch/__init__.py?line=225'>226</a>\u001b[0m     \u001b[39mraise\u001b[39;00m  \u001b[39m# If __file__ is not None the cause is unknown, so just re-raise.\u001b[39;00m\n\u001b[0;32m--> <a href='file:///usr/local/anaconda3/envs/cshi/lib/python3.8/site-packages/torch/__init__.py?line=228'>229</a>\u001b[0m __all__ \u001b[39m+\u001b[39m\u001b[39m=\u001b[39m [name \u001b[39mfor\u001b[39;00m name \u001b[39min\u001b[39;00m \u001b[39mdir\u001b[39m(_C)\n\u001b[1;32m    <a href='file:///usr/local/anaconda3/envs/cshi/lib/python3.8/site-packages/torch/__init__.py?line=229'>230</a>\u001b[0m             \u001b[39mif\u001b[39;00m name[\u001b[39m0\u001b[39m] \u001b[39m!=\u001b[39m \u001b[39m'\u001b[39m\u001b[39m_\u001b[39m\u001b[39m'\u001b[39m \u001b[39mand\u001b[39;00m\n\u001b[1;32m    <a href='file:///usr/local/anaconda3/envs/cshi/lib/python3.8/site-packages/torch/__init__.py?line=230'>231</a>\u001b[0m             \u001b[39mnot\u001b[39;00m name\u001b[39m.\u001b[39mendswith(\u001b[39m'\u001b[39m\u001b[39mBase\u001b[39m\u001b[39m'\u001b[39m)]\n\u001b[1;32m    <a href='file:///usr/local/anaconda3/envs/cshi/lib/python3.8/site-packages/torch/__init__.py?line=232'>233</a>\u001b[0m \u001b[39mif\u001b[39;00m \u001b[39mnot\u001b[39;00m TYPE_CHECKING:\n\u001b[1;32m    <a href='file:///usr/local/anaconda3/envs/cshi/lib/python3.8/site-packages/torch/__init__.py?line=233'>234</a>\u001b[0m     \u001b[39m# issue 38137 and python issue 43367. Submodules of a C extension are\u001b[39;00m\n\u001b[1;32m    <a href='file:///usr/local/anaconda3/envs/cshi/lib/python3.8/site-packages/torch/__init__.py?line=234'>235</a>\u001b[0m     \u001b[39m# non-standard, and attributes of those submodules cannot be pickled since\u001b[39;00m\n\u001b[1;32m    <a href='file:///usr/local/anaconda3/envs/cshi/lib/python3.8/site-packages/torch/__init__.py?line=235'>236</a>\u001b[0m     \u001b[39m# pickle expect to be able to import them as \"from _C.sub import attr\"\u001b[39;00m\n\u001b[1;32m    <a href='file:///usr/local/anaconda3/envs/cshi/lib/python3.8/site-packages/torch/__init__.py?line=236'>237</a>\u001b[0m     \u001b[39m# which fails with \"_C is not a package\u001b[39;00m\n\u001b[1;32m    <a href='file:///usr/local/anaconda3/envs/cshi/lib/python3.8/site-packages/torch/__init__.py?line=237'>238</a>\u001b[0m     \u001b[39mfor\u001b[39;00m attr \u001b[39min\u001b[39;00m \u001b[39mdir\u001b[39m(_C):\n",
      "\u001b[0;31mNameError\u001b[0m: name '_C' is not defined"
     ]
    }
   ],
   "source": [
    "import torch\n",
    "print(torch.__version__)\n"
   ]
  },
  {
   "cell_type": "code",
   "execution_count": null,
   "metadata": {},
   "outputs": [],
   "source": []
  }
 ],
 "metadata": {
  "interpreter": {
   "hash": "3067ead486e059ec00ffe7555bdb889e6e264a24dc711bf108106cc7baee8d5d"
  },
  "kernelspec": {
   "display_name": "Python 3.8.8 64-bit ('base': conda)",
   "language": "python",
   "name": "python3"
  },
  "language_info": {
   "codemirror_mode": {
    "name": "ipython",
    "version": 3
   },
   "file_extension": ".py",
   "mimetype": "text/x-python",
   "name": "python",
   "nbconvert_exporter": "python",
   "pygments_lexer": "ipython3",
   "version": "3.8.12"
  },
  "orig_nbformat": 4
 },
 "nbformat": 4,
 "nbformat_minor": 2
}
