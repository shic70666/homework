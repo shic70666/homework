{
 "cells": [
  {
   "cell_type": "code",
   "execution_count": 1,
   "metadata": {},
   "outputs": [],
   "source": [
    "import numpy as np\n",
    "import pandas as pd\n",
    "import matplotlib.pyplot as plt\n",
    "from sklearn.datasets import load_iris\n",
    "from sklearn.model_selection import train_test_split\n"
   ]
  },
  {
   "cell_type": "markdown",
   "metadata": {},
   "source": [
    "# Preprocessing"
   ]
  },
  {
   "cell_type": "code",
   "execution_count": 2,
   "metadata": {},
   "outputs": [
    {
     "data": {
      "image/png": "[encoded data removed]",
      "text/plain": [
       "<Figure size 432x288 with 1 Axes>"
      ]
     },
     "metadata": {
      "needs_background": "light"
     },
     "output_type": "display_data"
    }
   ],
   "source": [
    "iris = load_iris()\n",
    "data = iris.data\n",
    "target = iris.target\n",
    "# print (data[:10])\n",
    "# print (target[10:])\n",
    "X = data[0:100,[0,2]]\n",
    "y = target[0:100]\n",
    "# print (X[:5])\n",
    "# print (y[-5:])\n",
    "label = np.array(y)\n",
    "index_0 = np.where(label==0)\n",
    "plt.scatter(X[index_0,0],X[index_0,1],marker='x',color = 'b',label = '0',s = 15)\n",
    "index_1 =np.where(label==1)\n",
    "plt.scatter(X[index_1,0],X[index_1,1],marker='o',color = 'r',label = '1',s = 15)\n",
    "\n",
    "plt.xlabel('X1')\n",
    "plt.ylabel('X2')\n",
    "plt.legend(loc = 'upper left')\n",
    "plt.show()"
   ]
  },
  {
   "cell_type": "markdown",
   "metadata": {},
   "source": [
    "# Training Models(training dataset) \n",
    "## 编写逻辑回归模型的类"
   ]
  },
  {
   "cell_type": "code",
   "execution_count": 3,
   "metadata": {},
   "outputs": [],
   "source": [
    "class logistic(object):\n",
    "    def __init__(self):\n",
    "        self.W = None\n",
    "    def train(self,X,y,learn_rate = 0.01,num_iters = 50000):\n",
    "        num_train,num_feature = X.shape\n",
    "        #init the weight\n",
    "        self.W = 0.001*np.random.randn(num_feature,1).reshape((-1,1))\n",
    "        loss = []\n",
    "        \n",
    "        for i in range(num_iters):\n",
    "            error,dW = self.compute_loss(X,y)\n",
    "            self.W += -learn_rate*dW\n",
    "            \n",
    "            loss.append(error)\n",
    "            if i%200==0:\n",
    "                print('i={:d}, error= {:f}'.format(i,error))\n",
    "        return loss\n",
    "    \n",
    "    def compute_loss(self,X,y):\n",
    "        num_train = X.shape[0]\n",
    "        h = self.output(X)\n",
    "        loss = -np.sum((y*np.log(h) + (1-y)*np.log((1-h))))\n",
    "        loss = loss / num_train\n",
    "        \n",
    "        dW = X.T.dot((h-y)) / num_train\n",
    "    \n",
    "        return loss,dW\n",
    "    \n",
    "    def output(self,X):\n",
    "        g = np.dot(X,self.W)\n",
    "        return self.sigmod(g)\n",
    "    def sigmod(self,X):\n",
    "        return 1/(1+np.exp(-X))\n",
    "    \n",
    "    def predict(self,X_test):\n",
    "        h = self.output(X_test)\n",
    "        y_predl = np.where(h>=0.5,1,0)\n",
    "        return y_predl"
   ]
  },
  {
   "cell_type": "markdown",
   "metadata": {},
   "source": [
    "## 训练测试一下，并且可视化跟踪的损失loss"
   ]
  },
  {
   "cell_type": "code",
   "execution_count": 5,
   "metadata": {},
   "outputs": [
    {
     "name": "stdout",
     "output_type": "stream",
     "text": [
      "i=0, error= 0.691884\n",
      "i=200, error= 0.364614\n",
      "i=400, error= 0.238239\n",
      "i=600, error= 0.174837\n",
      "i=800, error= 0.137701\n",
      "i=1000, error= 0.113561\n",
      "i=1200, error= 0.096691\n",
      "i=1400, error= 0.084265\n",
      "i=1600, error= 0.074741\n",
      "i=1800, error= 0.067213\n",
      "i=2000, error= 0.061114\n",
      "i=2200, error= 0.056072\n",
      "i=2400, error= 0.051834\n",
      "i=2600, error= 0.048221\n",
      "i=2800, error= 0.045104\n",
      "i=3000, error= 0.042387\n",
      "i=3200, error= 0.039997\n",
      "i=3400, error= 0.037877\n",
      "i=3600, error= 0.035984\n",
      "i=3800, error= 0.034283\n",
      "i=4000, error= 0.032746\n",
      "i=4200, error= 0.031350\n",
      "i=4400, error= 0.030076\n",
      "i=4600, error= 0.028909\n",
      "i=4800, error= 0.027835\n",
      "i=5000, error= 0.026844\n",
      "i=5200, error= 0.025926\n",
      "i=5400, error= 0.025074\n",
      "i=5600, error= 0.024280\n",
      "i=5800, error= 0.023538\n",
      "i=6000, error= 0.022844\n",
      "i=6200, error= 0.022193\n",
      "i=6400, error= 0.021581\n",
      "i=6600, error= 0.021004\n",
      "i=6800, error= 0.020460\n",
      "i=7000, error= 0.019946\n",
      "i=7200, error= 0.019458\n",
      "i=7400, error= 0.018996\n",
      "i=7600, error= 0.018558\n",
      "i=7800, error= 0.018140\n",
      "i=8000, error= 0.017743\n",
      "i=8200, error= 0.017364\n",
      "i=8400, error= 0.017002\n",
      "i=8600, error= 0.016657\n",
      "i=8800, error= 0.016326\n",
      "i=9000, error= 0.016009\n",
      "i=9200, error= 0.015705\n",
      "i=9400, error= 0.015414\n",
      "i=9600, error= 0.015134\n",
      "i=9800, error= 0.014865\n",
      "i=10000, error= 0.014606\n",
      "i=10200, error= 0.014357\n",
      "i=10400, error= 0.014117\n",
      "i=10600, error= 0.013885\n",
      "i=10800, error= 0.013662\n",
      "i=11000, error= 0.013446\n",
      "i=11200, error= 0.013238\n",
      "i=11400, error= 0.013036\n",
      "i=11600, error= 0.012841\n",
      "i=11800, error= 0.012653\n",
      "i=12000, error= 0.012470\n",
      "i=12200, error= 0.012293\n",
      "i=12400, error= 0.012121\n",
      "i=12600, error= 0.011955\n",
      "i=12800, error= 0.011793\n",
      "i=13000, error= 0.011636\n",
      "i=13200, error= 0.011484\n",
      "i=13400, error= 0.011335\n",
      "i=13600, error= 0.011191\n",
      "i=13800, error= 0.011051\n",
      "i=14000, error= 0.010915\n",
      "i=14200, error= 0.010782\n",
      "i=14400, error= 0.010653\n",
      "i=14600, error= 0.010527\n",
      "i=14800, error= 0.010404\n",
      "i=15000, error= 0.010284\n",
      "i=15200, error= 0.010168\n",
      "i=15400, error= 0.010054\n",
      "i=15600, error= 0.009943\n",
      "i=15800, error= 0.009834\n",
      "i=16000, error= 0.009728\n",
      "i=16200, error= 0.009625\n",
      "i=16400, error= 0.009524\n",
      "i=16600, error= 0.009425\n",
      "i=16800, error= 0.009328\n",
      "i=17000, error= 0.009234\n",
      "i=17200, error= 0.009141\n",
      "i=17400, error= 0.009051\n",
      "i=17600, error= 0.008962\n",
      "i=17800, error= 0.008875\n",
      "i=18000, error= 0.008791\n",
      "i=18200, error= 0.008707\n",
      "i=18400, error= 0.008626\n",
      "i=18600, error= 0.008546\n",
      "i=18800, error= 0.008468\n",
      "i=19000, error= 0.008391\n",
      "i=19200, error= 0.008316\n",
      "i=19400, error= 0.008242\n",
      "i=19600, error= 0.008170\n",
      "i=19800, error= 0.008099\n",
      "i=20000, error= 0.008029\n",
      "i=20200, error= 0.007961\n",
      "i=20400, error= 0.007894\n",
      "i=20600, error= 0.007828\n",
      "i=20800, error= 0.007763\n",
      "i=21000, error= 0.007700\n",
      "i=21200, error= 0.007637\n",
      "i=21400, error= 0.007576\n",
      "i=21600, error= 0.007516\n",
      "i=21800, error= 0.007457\n",
      "i=22000, error= 0.007398\n",
      "i=22200, error= 0.007341\n",
      "i=22400, error= 0.007285\n",
      "i=22600, error= 0.007229\n",
      "i=22800, error= 0.007175\n",
      "i=23000, error= 0.007121\n",
      "i=23200, error= 0.007069\n",
      "i=23400, error= 0.007017\n",
      "i=23600, error= 0.006966\n",
      "i=23800, error= 0.006915\n",
      "i=24000, error= 0.006866\n",
      "i=24200, error= 0.006817\n",
      "i=24400, error= 0.006769\n",
      "i=24600, error= 0.006722\n",
      "i=24800, error= 0.006675\n",
      "i=25000, error= 0.006629\n",
      "i=25200, error= 0.006584\n",
      "i=25400, error= 0.006540\n",
      "i=25600, error= 0.006496\n",
      "i=25800, error= 0.006452\n",
      "i=26000, error= 0.006410\n",
      "i=26200, error= 0.006368\n",
      "i=26400, error= 0.006326\n",
      "i=26600, error= 0.006285\n",
      "i=26800, error= 0.006245\n",
      "i=27000, error= 0.006205\n",
      "i=27200, error= 0.006166\n",
      "i=27400, error= 0.006127\n",
      "i=27600, error= 0.006089\n",
      "i=27800, error= 0.006052\n",
      "i=28000, error= 0.006015\n",
      "i=28200, error= 0.005978\n",
      "i=28400, error= 0.005942\n",
      "i=28600, error= 0.005906\n",
      "i=28800, error= 0.005871\n",
      "i=29000, error= 0.005836\n",
      "i=29200, error= 0.005802\n",
      "i=29400, error= 0.005768\n",
      "i=29600, error= 0.005734\n",
      "i=29800, error= 0.005701\n",
      "i=30000, error= 0.005668\n",
      "i=30200, error= 0.005636\n",
      "i=30400, error= 0.005604\n",
      "i=30600, error= 0.005573\n",
      "i=30800, error= 0.005542\n",
      "i=31000, error= 0.005511\n",
      "i=31200, error= 0.005481\n",
      "i=31400, error= 0.005451\n",
      "i=31600, error= 0.005421\n",
      "i=31800, error= 0.005392\n",
      "i=32000, error= 0.005363\n",
      "i=32200, error= 0.005334\n",
      "i=32400, error= 0.005306\n",
      "i=32600, error= 0.005278\n",
      "i=32800, error= 0.005250\n",
      "i=33000, error= 0.005223\n",
      "i=33200, error= 0.005196\n",
      "i=33400, error= 0.005169\n",
      "i=33600, error= 0.005142\n",
      "i=33800, error= 0.005116\n",
      "i=34000, error= 0.005090\n",
      "i=34200, error= 0.005065\n",
      "i=34400, error= 0.005039\n",
      "i=34600, error= 0.005014\n",
      "i=34800, error= 0.004989\n",
      "i=35000, error= 0.004965\n",
      "i=35200, error= 0.004941\n",
      "i=35400, error= 0.004917\n",
      "i=35600, error= 0.004893\n",
      "i=35800, error= 0.004869\n",
      "i=36000, error= 0.004846\n",
      "i=36200, error= 0.004823\n",
      "i=36400, error= 0.004800\n",
      "i=36600, error= 0.004778\n",
      "i=36800, error= 0.004755\n",
      "i=37000, error= 0.004733\n",
      "i=37200, error= 0.004711\n",
      "i=37400, error= 0.004690\n",
      "i=37600, error= 0.004668\n",
      "i=37800, error= 0.004647\n",
      "i=38000, error= 0.004626\n",
      "i=38200, error= 0.004605\n",
      "i=38400, error= 0.004584\n",
      "i=38600, error= 0.004564\n",
      "i=38800, error= 0.004543\n",
      "i=39000, error= 0.004523\n",
      "i=39200, error= 0.004503\n",
      "i=39400, error= 0.004484\n",
      "i=39600, error= 0.004464\n",
      "i=39800, error= 0.004445\n",
      "i=40000, error= 0.004426\n",
      "i=40200, error= 0.004407\n",
      "i=40400, error= 0.004388\n",
      "i=40600, error= 0.004369\n",
      "i=40800, error= 0.004351\n",
      "i=41000, error= 0.004333\n",
      "i=41200, error= 0.004314\n",
      "i=41400, error= 0.004296\n",
      "i=41600, error= 0.004279\n",
      "i=41800, error= 0.004261\n",
      "i=42000, error= 0.004243\n",
      "i=42200, error= 0.004226\n",
      "i=42400, error= 0.004209\n",
      "i=42600, error= 0.004192\n",
      "i=42800, error= 0.004175\n",
      "i=43000, error= 0.004158\n",
      "i=43200, error= 0.004142\n",
      "i=43400, error= 0.004125\n",
      "i=43600, error= 0.004109\n",
      "i=43800, error= 0.004093\n",
      "i=44000, error= 0.004077\n",
      "i=44200, error= 0.004061\n",
      "i=44400, error= 0.004045\n",
      "i=44600, error= 0.004029\n",
      "i=44800, error= 0.004014\n",
      "i=45000, error= 0.003998\n",
      "i=45200, error= 0.003983\n",
      "i=45400, error= 0.003968\n",
      "i=45600, error= 0.003953\n",
      "i=45800, error= 0.003938\n",
      "i=46000, error= 0.003923\n",
      "i=46200, error= 0.003908\n",
      "i=46400, error= 0.003894\n",
      "i=46600, error= 0.003879\n",
      "i=46800, error= 0.003865\n",
      "i=47000, error= 0.003851\n",
      "i=47200, error= 0.003837\n",
      "i=47400, error= 0.003823\n",
      "i=47600, error= 0.003809\n",
      "i=47800, error= 0.003795\n",
      "i=48000, error= 0.003781\n",
      "i=48200, error= 0.003768\n",
      "i=48400, error= 0.003754\n",
      "i=48600, error= 0.003741\n",
      "i=48800, error= 0.003728\n",
      "i=49000, error= 0.003715\n",
      "i=49200, error= 0.003702\n",
      "i=49400, error= 0.003689\n",
      "i=49600, error= 0.003676\n",
      "i=49800, error= 0.003663\n"
     ]
    },
    {
     "data": {
      "image/png": "[encoded data removed]",
      "text/plain": [
       "<Figure size 432x288 with 1 Axes>"
      ]
     },
     "metadata": {
      "needs_background": "light"
     },
     "output_type": "display_data"
    }
   ],
   "source": [
    "# 划分训练集和测试集\n",
    "x_train, x_test, y_train, y_test = train_test_split(X,y,test_size=0.5)\n",
    "\n",
    "y = y.reshape((-1,1))\n",
    "#add the x0=1\n",
    "one = np.ones((x_train.shape[0],1))\n",
    "X_train = np.hstack((one,x_train))\n",
    "\n",
    "one_test = np.ones((x_test.shape[0],1))\n",
    "X_test = np.hstack((one_test,x_test))\n",
    "\n",
    "classify = logistic()\n",
    "loss = classify.train(X_train,y_train)\n",
    "# print (classify.W)\n",
    "\n",
    "plt.plot(loss)\n",
    "plt.xlabel('Iteration number')\n",
    "plt.ylabel('Loss value')\n",
    "\n",
    "plt.show()"
   ]
  },
  {
   "cell_type": "code",
   "execution_count": 7,
   "metadata": {},
   "outputs": [
    {
     "data": {
      "image/png": "[encoded data removed]",
      "text/plain": [
       "<Figure size 432x288 with 1 Axes>"
      ]
     },
     "metadata": {
      "needs_background": "light"
     },
     "output_type": "display_data"
    }
   ],
   "source": [
    "#TODO: delete tthis\n",
    "\n",
    "fig, ax=plt.subplots()\n",
    "# ax.scatter(y_train,classify.predict(X_train))\n",
    "# ax.plot([0,10], [0,10], \"r--\", label=\"perfect prediction\")\n",
    "xx = range(0,50,1)\n",
    "ax.scatter(xx, y_train.transpose(), marker='*', color = 'b', label = \"training dataset\")\n",
    "ax.scatter(xx, classify.predict(X_train).transpose(), marker='o',edgecolors = 'r', label = \"predicting results\")\n",
    "plt.legend()\n",
    "ax.set(xlabel=\"number of training set\", ylabel=\"result of prediction\",title=\"training dataset\")\n",
    "plt.show()\n",
    "\n",
    "\n",
    "# label = np.array(y)\n",
    "# index_0 = np.where(label==0)\n",
    "# plt.scatter(X[index_0,0],X[index_0,1],marker='x',color = 'b',label = '0',s = 15)\n",
    "# index_1 =np.where(label==1)\n",
    "# plt.scatter(X[index_1,0],X[index_1,1],marker='o',color = 'r',label = '1',s = 15)"
   ]
  },
  {
   "cell_type": "markdown",
   "metadata": {},
   "source": [
    "## 最后可视化“决策边界”"
   ]
  },
  {
   "cell_type": "code",
   "execution_count": 8,
   "metadata": {},
   "outputs": [
    {
     "data": {
      "image/png": "[encoded data removed]",
      "text/plain": [
       "<Figure size 432x288 with 1 Axes>"
      ]
     },
     "metadata": {
      "needs_background": "light"
     },
     "output_type": "display_data"
    }
   ],
   "source": [
    "label = np.array(y)\n",
    "index_0 = np.where(label==0)\n",
    "plt.scatter(X[index_0,0],X[index_0,1],marker='x',color = 'b',label = '0',s = 15)\n",
    "index_1 =np.where(label==1)\n",
    "plt.scatter(X[index_1,0],X[index_1,1],marker='o',color = 'r',label = '1',s = 15)\n",
    "\n",
    "#show the decision boundary\n",
    "x1 = np.arange(4,7.5,0.5)\n",
    "x2 = (- classify.W[0] - classify.W[1]*x1) / classify.W[2]\n",
    "plt.plot(x1,x2,color = 'black')\n",
    "plt.xlabel('X1')\n",
    "plt.ylabel('X2')\n",
    "plt.legend(loc = 'upper left')\n",
    "plt.show()"
   ]
  },
  {
   "cell_type": "code",
   "execution_count": null,
   "metadata": {},
   "outputs": [],
   "source": [
    "# fig, ax=plt.subplots()\n",
    "# ax.scatter(x1,x2)\n",
    "# ax.plot([0,10], [0,10], \"r--\", label=\"perfect prediction\")\n",
    "# plt.legend()\n",
    "# ax.set(xlabel=\"y_train\", ylabel=\"y_hat\",title=\"training dataset\")\n",
    "# plt.show()"
   ]
  },
  {
   "cell_type": "markdown",
   "metadata": {},
   "source": [
    "# Using Models(testing dataset)"
   ]
  },
  {
   "cell_type": "code",
   "execution_count": 9,
   "metadata": {},
   "outputs": [
    {
     "name": "stderr",
     "output_type": "stream",
     "text": [
      "<ipython-input-9-9d725b47b5a9>:6: MatplotlibDeprecationWarning: Using a string of single character colors as a color sequence is deprecated since 3.2 and will be removed two minor releases later. Use an explicit list instead.\n",
      "  ax.scatter(xx_test, classify.predict(X_test).transpose(), marker='o', edgecolors = 'g', color = '', label = \"predicting results\")\n"
     ]
    },
    {
     "data": {
      "image/png": "[encoded data removed]",
      "text/plain": [
       "<Figure size 432x288 with 1 Axes>"
      ]
     },
     "metadata": {
      "needs_background": "light"
     },
     "output_type": "display_data"
    }
   ],
   "source": [
    "# TODO: replace this figure by that from linear regression (y_hat vs y_true)\n",
    "\n",
    "fig, ax=plt.subplots()\n",
    "# ax.scatter(y_train,classify.predict(X_train))\n",
    "# ax.plot([0,10], [0,10], \"r--\", label=\"perfect prediction\")\n",
    "xx_test = range(0,50,1)\n",
    "ax.scatter(xx_test, y_test.transpose(), marker='*', color = 'b', label = \"testing dataset\")\n",
    "ax.scatter(xx_test, classify.predict(X_test).transpose(), marker='o', edgecolors = 'g', color = '', label = \"predicting results\")\n",
    "plt.legend()\n",
    "ax.set(xlabel=\"number of testing set\", ylabel=\"result of prediction\",title=\"testing dataset\")\n",
    "plt.show()"
   ]
  }
 ],
 "metadata": {
  "interpreter": {
   "hash": "3067ead486e059ec00ffe7555bdb889e6e264a24dc711bf108106cc7baee8d5d"
  },
  "kernelspec": {
   "display_name": "Python 3.8.8 64-bit ('base': conda)",
   "name": "python3"
  },
  "language_info": {
   "codemirror_mode": {
    "name": "ipython",
    "version": 3
   },
   "file_extension": ".py",
   "mimetype": "text/x-python",
   "name": "python",
   "nbconvert_exporter": "python",
   "pygments_lexer": "ipython3",
   "version": "3.8.8"
  },
  "orig_nbformat": 4
 },
 "nbformat": 4,
 "nbformat_minor": 2
}
