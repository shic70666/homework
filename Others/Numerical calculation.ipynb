{
 "cells": [
  {
   "cell_type": "markdown",
   "source": [
    "<font size = 5> <mark>第一部分:数值运算<mark>"
   ],
   "metadata": {}
  },
  {
   "cell_type": "code",
   "execution_count": 18,
   "source": [
    "import numpy as np\n",
    "import pandas as pd\n",
    "import matplotlib.pyplot as plt\n",
    "from copy import deepcopy"
   ],
   "outputs": [],
   "metadata": {
    "scrolled": true
   }
  },
  {
   "cell_type": "markdown",
   "source": [
    "**1 读取.csv文件**"
   ],
   "metadata": {}
  },
  {
   "cell_type": "code",
   "execution_count": 19,
   "source": [
    "df = pd.read_csv(\"/Users/shic/OneDrive/Chen/S2_22_2170-88.csv\", header = None)"
   ],
   "outputs": [],
   "metadata": {}
  },
  {
   "cell_type": "markdown",
   "source": [
    "**2 添加列名**"
   ],
   "metadata": {}
  },
  {
   "cell_type": "code",
   "execution_count": 20,
   "source": [
    "df.columns = [\"Time\",\"Acceleration\",\"Strain\",\"Velocity\"]\n",
    "df2 = deepcopy(df)"
   ],
   "outputs": [],
   "metadata": {}
  },
  {
   "cell_type": "markdown",
   "source": [
    "**3 显示df最初的10行和最后的15行**"
   ],
   "metadata": {}
  },
  {
   "cell_type": "code",
   "execution_count": 21,
   "source": [
    "df.head(10)"
   ],
   "outputs": [
    {
     "output_type": "execute_result",
     "data": {
      "text/html": [
       "<div>\n",
       "<style scoped>\n",
       "    .dataframe tbody tr th:only-of-type {\n",
       "        vertical-align: middle;\n",
       "    }\n",
       "\n",
       "    .dataframe tbody tr th {\n",
       "        vertical-align: top;\n",
       "    }\n",
       "\n",
       "    .dataframe thead th {\n",
       "        text-align: right;\n",
       "    }\n",
       "</style>\n",
       "<table border=\"1\" class=\"dataframe\">\n",
       "  <thead>\n",
       "    <tr style=\"text-align: right;\">\n",
       "      <th></th>\n",
       "      <th>Time</th>\n",
       "      <th>Acceleration</th>\n",
       "      <th>Strain</th>\n",
       "      <th>Velocity</th>\n",
       "    </tr>\n",
       "  </thead>\n",
       "  <tbody>\n",
       "    <tr>\n",
       "      <th>0</th>\n",
       "      <td>0.00000</td>\n",
       "      <td>0.115997</td>\n",
       "      <td>1373.52650</td>\n",
       "      <td>0.062043</td>\n",
       "    </tr>\n",
       "    <tr>\n",
       "      <th>1</th>\n",
       "      <td>0.00046</td>\n",
       "      <td>-1.488994</td>\n",
       "      <td>1140.40600</td>\n",
       "      <td>1.411096</td>\n",
       "    </tr>\n",
       "    <tr>\n",
       "      <th>2</th>\n",
       "      <td>0.00093</td>\n",
       "      <td>-2.654569</td>\n",
       "      <td>509.14166</td>\n",
       "      <td>2.260855</td>\n",
       "    </tr>\n",
       "    <tr>\n",
       "      <th>3</th>\n",
       "      <td>0.00139</td>\n",
       "      <td>-2.671171</td>\n",
       "      <td>-309.62070</td>\n",
       "      <td>2.308470</td>\n",
       "    </tr>\n",
       "    <tr>\n",
       "      <th>4</th>\n",
       "      <td>0.00185</td>\n",
       "      <td>-1.728748</td>\n",
       "      <td>-1029.42910</td>\n",
       "      <td>1.527155</td>\n",
       "    </tr>\n",
       "    <tr>\n",
       "      <th>5</th>\n",
       "      <td>0.00231</td>\n",
       "      <td>-0.358199</td>\n",
       "      <td>-1378.27270</td>\n",
       "      <td>0.196439</td>\n",
       "    </tr>\n",
       "    <tr>\n",
       "      <th>6</th>\n",
       "      <td>0.00277</td>\n",
       "      <td>1.230305</td>\n",
       "      <td>-1224.21550</td>\n",
       "      <td>-1.231556</td>\n",
       "    </tr>\n",
       "    <tr>\n",
       "      <th>7</th>\n",
       "      <td>0.00323</td>\n",
       "      <td>2.519134</td>\n",
       "      <td>-632.81152</td>\n",
       "      <td>-2.207246</td>\n",
       "    </tr>\n",
       "    <tr>\n",
       "      <th>8</th>\n",
       "      <td>0.00369</td>\n",
       "      <td>2.811892</td>\n",
       "      <td>176.51962</td>\n",
       "      <td>-2.386613</td>\n",
       "    </tr>\n",
       "    <tr>\n",
       "      <th>9</th>\n",
       "      <td>0.00415</td>\n",
       "      <td>1.997480</td>\n",
       "      <td>923.35950</td>\n",
       "      <td>-1.729734</td>\n",
       "    </tr>\n",
       "  </tbody>\n",
       "</table>\n",
       "</div>"
      ],
      "text/plain": [
       "      Time  Acceleration      Strain  Velocity\n",
       "0  0.00000      0.115997  1373.52650  0.062043\n",
       "1  0.00046     -1.488994  1140.40600  1.411096\n",
       "2  0.00093     -2.654569   509.14166  2.260855\n",
       "3  0.00139     -2.671171  -309.62070  2.308470\n",
       "4  0.00185     -1.728748 -1029.42910  1.527155\n",
       "5  0.00231     -0.358199 -1378.27270  0.196439\n",
       "6  0.00277      1.230305 -1224.21550 -1.231556\n",
       "7  0.00323      2.519134  -632.81152 -2.207246\n",
       "8  0.00369      2.811892   176.51962 -2.386613\n",
       "9  0.00415      1.997480   923.35950 -1.729734"
      ]
     },
     "metadata": {},
     "execution_count": 21
    }
   ],
   "metadata": {
    "scrolled": false
   }
  },
  {
   "cell_type": "code",
   "execution_count": 22,
   "source": [
    "df.tail(15)"
   ],
   "outputs": [
    {
     "output_type": "execute_result",
     "data": {
      "text/html": [
       "<div>\n",
       "<style scoped>\n",
       "    .dataframe tbody tr th:only-of-type {\n",
       "        vertical-align: middle;\n",
       "    }\n",
       "\n",
       "    .dataframe tbody tr th {\n",
       "        vertical-align: top;\n",
       "    }\n",
       "\n",
       "    .dataframe thead th {\n",
       "        text-align: right;\n",
       "    }\n",
       "</style>\n",
       "<table border=\"1\" class=\"dataframe\">\n",
       "  <thead>\n",
       "    <tr style=\"text-align: right;\">\n",
       "      <th></th>\n",
       "      <th>Time</th>\n",
       "      <th>Acceleration</th>\n",
       "      <th>Strain</th>\n",
       "      <th>Velocity</th>\n",
       "    </tr>\n",
       "  </thead>\n",
       "  <tbody>\n",
       "    <tr>\n",
       "      <th>9628293</th>\n",
       "      <td>4435.20302</td>\n",
       "      <td>17.742643</td>\n",
       "      <td>72.283890</td>\n",
       "      <td>-2.201848</td>\n",
       "    </tr>\n",
       "    <tr>\n",
       "      <th>9628294</th>\n",
       "      <td>4435.20352</td>\n",
       "      <td>14.467085</td>\n",
       "      <td>801.142400</td>\n",
       "      <td>-1.719375</td>\n",
       "    </tr>\n",
       "    <tr>\n",
       "      <th>9628295</th>\n",
       "      <td>4435.20392</td>\n",
       "      <td>6.822897</td>\n",
       "      <td>1317.272200</td>\n",
       "      <td>-0.732718</td>\n",
       "    </tr>\n",
       "    <tr>\n",
       "      <th>9628296</th>\n",
       "      <td>4435.20442</td>\n",
       "      <td>-3.022723</td>\n",
       "      <td>1453.008800</td>\n",
       "      <td>0.462080</td>\n",
       "    </tr>\n",
       "    <tr>\n",
       "      <th>9628297</th>\n",
       "      <td>4435.20482</td>\n",
       "      <td>-11.865967</td>\n",
       "      <td>1186.389000</td>\n",
       "      <td>1.504725</td>\n",
       "    </tr>\n",
       "    <tr>\n",
       "      <th>9628298</th>\n",
       "      <td>4435.20532</td>\n",
       "      <td>-17.134003</td>\n",
       "      <td>603.705750</td>\n",
       "      <td>2.112498</td>\n",
       "    </tr>\n",
       "    <tr>\n",
       "      <th>9628299</th>\n",
       "      <td>4435.20582</td>\n",
       "      <td>-17.051439</td>\n",
       "      <td>-128.928880</td>\n",
       "      <td>2.068366</td>\n",
       "    </tr>\n",
       "    <tr>\n",
       "      <th>9628300</th>\n",
       "      <td>4435.20622</td>\n",
       "      <td>-11.971595</td>\n",
       "      <td>-811.478940</td>\n",
       "      <td>1.401768</td>\n",
       "    </tr>\n",
       "    <tr>\n",
       "      <th>9628301</th>\n",
       "      <td>4435.20672</td>\n",
       "      <td>-3.162599</td>\n",
       "      <td>-1230.419700</td>\n",
       "      <td>0.312059</td>\n",
       "    </tr>\n",
       "    <tr>\n",
       "      <th>9628302</th>\n",
       "      <td>4435.20712</td>\n",
       "      <td>6.651650</td>\n",
       "      <td>-1216.896200</td>\n",
       "      <td>-0.924515</td>\n",
       "    </tr>\n",
       "    <tr>\n",
       "      <th>9628303</th>\n",
       "      <td>4435.20762</td>\n",
       "      <td>14.457703</td>\n",
       "      <td>-787.638550</td>\n",
       "      <td>-1.874622</td>\n",
       "    </tr>\n",
       "    <tr>\n",
       "      <th>9628304</th>\n",
       "      <td>4435.20812</td>\n",
       "      <td>17.835873</td>\n",
       "      <td>-99.043915</td>\n",
       "      <td>-2.221865</td>\n",
       "    </tr>\n",
       "    <tr>\n",
       "      <th>9628305</th>\n",
       "      <td>4435.20852</td>\n",
       "      <td>15.719438</td>\n",
       "      <td>647.532100</td>\n",
       "      <td>-1.882002</td>\n",
       "    </tr>\n",
       "    <tr>\n",
       "      <th>9628306</th>\n",
       "      <td>4435.20902</td>\n",
       "      <td>8.926959</td>\n",
       "      <td>1230.890300</td>\n",
       "      <td>-0.987337</td>\n",
       "    </tr>\n",
       "    <tr>\n",
       "      <th>9628307</th>\n",
       "      <td>4435.20942</td>\n",
       "      <td>-0.748627</td>\n",
       "      <td>1459.907500</td>\n",
       "      <td>0.193333</td>\n",
       "    </tr>\n",
       "  </tbody>\n",
       "</table>\n",
       "</div>"
      ],
      "text/plain": [
       "               Time  Acceleration       Strain  Velocity\n",
       "9628293  4435.20302     17.742643    72.283890 -2.201848\n",
       "9628294  4435.20352     14.467085   801.142400 -1.719375\n",
       "9628295  4435.20392      6.822897  1317.272200 -0.732718\n",
       "9628296  4435.20442     -3.022723  1453.008800  0.462080\n",
       "9628297  4435.20482    -11.865967  1186.389000  1.504725\n",
       "9628298  4435.20532    -17.134003   603.705750  2.112498\n",
       "9628299  4435.20582    -17.051439  -128.928880  2.068366\n",
       "9628300  4435.20622    -11.971595  -811.478940  1.401768\n",
       "9628301  4435.20672     -3.162599 -1230.419700  0.312059\n",
       "9628302  4435.20712      6.651650 -1216.896200 -0.924515\n",
       "9628303  4435.20762     14.457703  -787.638550 -1.874622\n",
       "9628304  4435.20812     17.835873   -99.043915 -2.221865\n",
       "9628305  4435.20852     15.719438   647.532100 -1.882002\n",
       "9628306  4435.20902      8.926959  1230.890300 -0.987337\n",
       "9628307  4435.20942     -0.748627  1459.907500  0.193333"
      ]
     },
     "metadata": {},
     "execution_count": 22
    }
   ],
   "metadata": {}
  },
  {
   "cell_type": "markdown",
   "source": [
    "**4 对Strain所在列进行单位换算**"
   ],
   "metadata": {}
  },
  {
   "cell_type": "code",
   "execution_count": 23,
   "source": [
    "df.Strain = df.Strain.map(lambda x: x*1e-06)\n",
    "df.Strain.head(5)"
   ],
   "outputs": [
    {
     "output_type": "execute_result",
     "data": {
      "text/plain": [
       "0    0.001374\n",
       "1    0.001140\n",
       "2    0.000509\n",
       "3   -0.000310\n",
       "4   -0.001029\n",
       "Name: Strain, dtype: float64"
      ]
     },
     "metadata": {},
     "execution_count": 23
    }
   ],
   "metadata": {}
  },
  {
   "cell_type": "code",
   "execution_count": 24,
   "source": [
    "df2[\"Strain\"] = df2[\"Strain\"] * 1e-6\n",
    "df2[\"Strain\"].head(5)"
   ],
   "outputs": [
    {
     "output_type": "execute_result",
     "data": {
      "text/plain": [
       "0    0.001374\n",
       "1    0.001140\n",
       "2    0.000509\n",
       "3   -0.000310\n",
       "4   -0.001029\n",
       "Name: Strain, dtype: float64"
      ]
     },
     "metadata": {},
     "execution_count": 24
    }
   ],
   "metadata": {}
  },
  {
   "cell_type": "markdown",
   "source": [
    "**5 对Acceleration所在列进行求和换算**"
   ],
   "metadata": {}
  },
  {
   "cell_type": "code",
   "execution_count": 25,
   "source": [
    "somme = df.Acceleration.sum()\n",
    "# print(sum)\n",
    "# Only works in Jupyter:\n",
    "somme"
   ],
   "outputs": [
    {
     "output_type": "execute_result",
     "data": {
      "text/plain": [
       "19253.098751561105"
      ]
     },
     "metadata": {},
     "execution_count": 25
    }
   ],
   "metadata": {}
  },
  {
   "cell_type": "markdown",
   "source": [
    "**6 对Time所在列进行数学公式运算**"
   ],
   "metadata": {}
  },
  {
   "cell_type": "code",
   "execution_count": 27,
   "source": [
    "def func(x, y = 0):\n",
    "    if x == 0:\n",
    "        y = 0\n",
    "    else:\n",
    "        y = (x**2 + 2*x - 1)/x\n",
    "        return y\n",
    "\n",
    "df.Time = df.Time.map(func)\n",
    "df.Time.head(5)"
   ],
   "outputs": [
    {
     "output_type": "execute_result",
     "data": {
      "text/plain": [
       "0            NaN\n",
       "1   -2169.912123\n",
       "2   -1071.266955\n",
       "3    -715.421677\n",
       "4    -536.536834\n",
       "Name: Time, dtype: float64"
      ]
     },
     "metadata": {},
     "execution_count": 27
    }
   ],
   "metadata": {}
  }
 ],
 "metadata": {
  "kernelspec": {
   "name": "python3",
   "display_name": "Python 3.8.8 64-bit ('base': conda)"
  },
  "language_info": {
   "codemirror_mode": {
    "name": "ipython",
    "version": 3
   },
   "file_extension": ".py",
   "mimetype": "text/x-python",
   "name": "python",
   "nbconvert_exporter": "python",
   "pygments_lexer": "ipython3",
   "version": "3.8.8"
  },
  "interpreter": {
   "hash": "e134e05457d34029b6460cd73bbf1ed73f339b5b6d98c95be70b69eba114fe95"
  }
 },
 "nbformat": 4,
 "nbformat_minor": 5
}