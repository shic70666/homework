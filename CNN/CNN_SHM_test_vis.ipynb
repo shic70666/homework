{
 "cells": [
  {
   "cell_type": "code",
   "execution_count": 1,
   "metadata": {},
   "outputs": [
    {
     "data": {
      "text/plain": [
       "<torch._C.Generator at 0x7f7ba3bd1230>"
      ]
     },
     "execution_count": 1,
     "metadata": {},
     "output_type": "execute_result"
    }
   ],
   "source": [
    "import torch\n",
    "import torch.nn as nn\n",
    "from torch.utils.data import Dataset, DataLoader\n",
    "from torch.autograd import Variable\n",
    "from torchvision import transforms\n",
    "from pathlib import Path\n",
    "from matplotlib import pyplot as plt\n",
    "import pandas as pd\n",
    "import numpy as np\n",
    "import os\n",
    "from torchsummary import summary # 输出模型信息，计算模型整体参数量\n",
    "from torchviz import make_dot, make_dot_from_trace # 可视化模型前馈的计算图\n",
    "from visdom import Visdom # 可视化学习曲线\n",
    "import time\n",
    "torch.manual_seed(1)"
   ]
  },
  {
   "cell_type": "markdown",
   "metadata": {},
   "source": [
    "# Hyperparameters"
   ]
  },
  {
   "cell_type": "code",
   "execution_count": 2,
   "metadata": {},
   "outputs": [],
   "source": [
    "#! Hyper Parameters\n",
    "num_epochs = 3\n",
    "batch_size = 32\n",
    "learning_rate = 0.1"
   ]
  },
  {
   "cell_type": "markdown",
   "metadata": {},
   "source": [
    "# Pre-processing"
   ]
  },
  {
   "cell_type": "code",
   "execution_count": 3,
   "metadata": {},
   "outputs": [],
   "source": [
    "class SHM_Dataset(Dataset):\n",
    "    \"\"\" Prepare dataset for pytorch\n",
    "        Ref: https://pytorch.org/tutorials/beginner/basics/data_tutorial.html\n",
    "    \"\"\"\n",
    "\n",
    "    def __init__(self, case, data_file, transform): \n",
    "        self.case = case\n",
    "        self.data_file = Path(data_file)\n",
    "        self.data_df = pd.read_json(self.data_file, dtype=np.array)\n",
    "        # self.data = self.data_df.cat()\n",
    "        self.data = self.data_df.stack()\n",
    "        self.labels = pd.DataFrame([self.case,]*self.data_df.shape[0]*self.data_df.shape[1])\n",
    "        self.transform = transform\n",
    "    \n",
    "    def __len__(self):\n",
    "        return self.labels.shape[0]\n",
    "\n",
    "    def __getitem__(self, index):\n",
    "        label = int(self.labels.iloc[index])\n",
    "        feature = np.array(self.data.iloc[index])\n",
    "\n",
    "        # trans1 = transforms.ToTensor()\n",
    "        # feature_tr1 = trans1(feature)\n",
    "        # mean, std = feature_tr1.mean(), feature_tr1.std()\n",
    "        mean, std = feature.mean(), feature.std()\n",
    "\n",
    "        trans2 = transforms.Compose([transforms.ToTensor(), transforms.Normalize(mean, std)])\n",
    "        feature_tr2 = trans2(feature)\n",
    "        # print(f\"feature: {feature.shape}, label: {label.shape}\")\n",
    "        return feature_tr2, label\n",
    "\n",
    "\n",
    "# shmDS = SHM_Dataset(1, \"~/Codes/homework/data/SHM/shm01s.json\")\n",
    "# print(\"There is\", len(shmDS), \"samples in the given dataset\")"
   ]
  },
  {
   "cell_type": "markdown",
   "metadata": {},
   "source": [
    "The target span needs to be 0 to N-1 [Ref: IndexError: Target is out of bounds](https://pytorch.org/docs/master/generated/torch.nn.CrossEntropyLoss.html)"
   ]
  },
  {
   "cell_type": "code",
   "execution_count": 4,
   "metadata": {},
   "outputs": [],
   "source": [
    "trans = transforms.Compose([transforms.ToTensor(), transforms.Normalize((0.5,), (0.5,))])\n",
    "# trans = transforms.ToTensor()\n",
    "\n",
    "shmDS_1 = SHM_Dataset(0, \"~/Codes/homework/data/SHM/shm01s.json\", trans) # Case 1\n",
    "shmDS_2 = SHM_Dataset(1, \"~/Codes/homework/data/SHM/shm02s.json\", trans)\n",
    "shmDS_3 = SHM_Dataset(2, \"~/Codes/homework/data/SHM/shm03s.json\", trans)\n",
    "shmDS_4 = SHM_Dataset(3, \"~/Codes/homework/data/SHM/shm04s.json\", trans)\n",
    "shmDS_5 = SHM_Dataset(4, \"~/Codes/homework/data/SHM/shm05s.json\", trans)\n",
    "shmDS_6 = SHM_Dataset(5, \"~/Codes/homework/data/SHM/shm06s.json\", trans)\n",
    "shmDS_7 = SHM_Dataset(6, \"~/Codes/homework/data/SHM/shm07s.json\", trans)\n",
    "shmDS_8 = SHM_Dataset(7, \"~/Codes/homework/data/SHM/shm08s.json\", trans)\n",
    "shmDS_9 = SHM_Dataset(8, \"~/Codes/homework/data/SHM/shm09s.json\", trans)\n",
    "shmDS = shmDS_1 + shmDS_2 + shmDS_3 + shmDS_4 + shmDS_5 + shmDS_6 + shmDS_7 + shmDS_8 + shmDS_9"
   ]
  },
  {
   "cell_type": "code",
   "execution_count": 5,
   "metadata": {},
   "outputs": [
    {
     "name": "stdout",
     "output_type": "stream",
     "text": [
      "There is 24672 samples in the given dataset\n"
     ]
    }
   ],
   "source": [
    "print(\"There is\", len(shmDS), \"samples in the given dataset\")"
   ]
  },
  {
   "cell_type": "markdown",
   "metadata": {},
   "source": [
    "Let's have a look on a single sample:"
   ]
  },
  {
   "cell_type": "code",
   "execution_count": 6,
   "metadata": {},
   "outputs": [
    {
     "name": "stdout",
     "output_type": "stream",
     "text": [
      "Feature batch shape: torch.Size([32, 1, 16, 16])\n",
      "Labels batch shape: torch.Size([32])\n"
     ]
    },
    {
     "data": {
      "image/png": "[encoded data removed]",
      "text/plain": [
       "<Figure size 432x288 with 1 Axes>"
      ]
     },
     "metadata": {
      "needs_background": "light"
     },
     "output_type": "display_data"
    }
   ],
   "source": [
    "train_loader = DataLoader(shmDS, batch_size=batch_size, shuffle=True) # split samples into mini-batches and reshuffle the data to reduce overfitting\n",
    "test_loader = DataLoader(shmDS, batch_size=batch_size, shuffle=False)\n",
    "\n",
    "train_features, train_labels = next(iter(train_loader))\n",
    "test_features, test_labels = next(iter(test_loader))\n",
    "# train_features = train_features.unsqueeze(dim=1)\n",
    "print(f\"Feature batch shape: {train_features.size()}\")\n",
    "print(f\"Labels batch shape: {train_labels.size()}\")\n",
    "\n",
    "img = train_features[0].squeeze()\n",
    "label = train_labels[0]\n",
    "fig, axis = plt.subplots()\n",
    "axis.imshow(img, cmap=\"gray\")\n",
    "\n",
    "axis.set(title=f\"Label: {label}\", xticks=range(16), yticks=range(16))\n",
    "plt.show()\n",
    "# print(f\"Input features: {img.shape}\\n\\t{img}\")\n",
    "# print(f\"Label: {label.shape}\\n\\t{label}\")"
   ]
  },
  {
   "cell_type": "markdown",
   "metadata": {},
   "source": [
    "# Build the neural network\n",
    "\n",
    "## CNN Model"
   ]
  },
  {
   "cell_type": "code",
   "execution_count": 7,
   "metadata": {},
   "outputs": [],
   "source": [
    "# Four-layer convolution\n",
    "class CNN(nn.Module):\n",
    "    def __init__(self):\n",
    "        super(CNN, self).__init__()\n",
    "        ## by HB\n",
    "        # self.conv1 = nn.Sequential(\n",
    "        #     nn.Conv2d(1, 4, kernel_size=4, padding=1),\n",
    "        #     nn.BatchNorm2d(4),\n",
    "        #     nn.ReLU(),\n",
    "        #     nn.MaxPool2d(2))\n",
    "        # self.conv2 = nn.Sequential(\n",
    "        #     nn.Conv2d(4, 8, kernel_size=4, padding=1),\n",
    "        #     nn.BatchNorm2d(8),\n",
    "        #     nn.ReLU(),\n",
    "        #     nn.MaxPool2d(2))\n",
    "        # self.fc = nn.Linear(3*3*8, 9)\n",
    "        \n",
    "        ## by Chen\n",
    "        self.conv1 = nn.Sequential(\n",
    "            nn.Conv2d(1, 4, kernel_size=3, padding=1),\n",
    "            nn.BatchNorm2d(4),\n",
    "            nn.ReLU(),\n",
    "            nn.MaxPool2d(2))\n",
    "        self.conv2 = nn.Sequential(\n",
    "            nn.Conv2d(4, 8, kernel_size=3, padding=1),\n",
    "            nn.BatchNorm2d(8),\n",
    "            nn.ReLU(),\n",
    "            nn.MaxPool2d(2))\n",
    "        self.conv3 = nn.Sequential(\n",
    "            nn.Conv2d(8, 16, kernel_size=3, padding=1),\n",
    "            nn.BatchNorm2d(16),\n",
    "            nn.ReLU(),\n",
    "            nn.MaxPool2d(2))\n",
    "        self.conv4 = nn.Sequential(\n",
    "            nn.Conv2d(16, 32, kernel_size=3, padding=1),\n",
    "            nn.BatchNorm2d(32),\n",
    "            nn.ReLU(),\n",
    "            nn.MaxPool2d(2))\n",
    "        self.fc = nn.Linear(32 * 1 * 1, 9)\n",
    "\n",
    "    def forward(self, x):\n",
    "        x = self.conv1(x)\n",
    "        x = self.conv2(x)\n",
    "        x = self.conv3(x)\n",
    "        x = self.conv4(x)\n",
    "        # print(x.shape)\n",
    "        x = x.view(x.size(0), -1) \n",
    "        # print(x.shape)\n",
    "        x = self.fc(x)\n",
    "        return x\n",
    "\n",
    "cnn = CNN()"
   ]
  },
  {
   "cell_type": "markdown",
   "metadata": {},
   "source": [
    "## Loss and Optimizer"
   ]
  },
  {
   "cell_type": "code",
   "execution_count": 8,
   "metadata": {},
   "outputs": [],
   "source": [
    "loss_func = nn.CrossEntropyLoss()\n",
    "# optimizer = torch.optim.Adam(cnn.parameters(), lr=learning_rate)\n",
    "optimizer = torch.optim.SGD(cnn.parameters(), lr=learning_rate)\n",
    "scheduler = torch.optim.lr_scheduler.ExponentialLR(optimizer, gamma=0.1)"
   ]
  },
  {
   "cell_type": "markdown",
   "metadata": {},
   "source": [
    "# Train the model"
   ]
  },
  {
   "cell_type": "code",
   "execution_count": 9,
   "metadata": {},
   "outputs": [],
   "source": [
    "# for epoch in range(num_epochs):\n",
    "#     for i, (train_features, train_labels) in enumerate(train_loader):\n",
    "#         train_features = Variable(train_features)\n",
    "#         train_features = train_features.float()\n",
    "#         train_labels = Variable(train_labels)\n",
    "\n",
    "#         # Forward + Backward + Optimize\n",
    "#         optimizer.zero_grad()\n",
    "#         outputs = cnn(train_features)\n",
    "#         loss = loss_func(outputs, train_labels)\n",
    "#         loss.backward()\n",
    "#         optimizer.step()\n",
    "\n",
    "#         if (i + 1) % 100 == 0:\n",
    "#             print('Epoch [%d/%d], Iter [%d/%d], Loss: %.4f'\n",
    "#                   % (epoch + 1, num_epochs, i + 1, len(shmDS) // batch_size, loss.item()))\n",
    "#     scheduler.step()"
   ]
  },
  {
   "cell_type": "code",
   "execution_count": 14,
   "metadata": {},
   "outputs": [
    {
     "name": "stderr",
     "output_type": "stream",
     "text": [
      "Setting up a new session...\n",
      "/var/folders/4z/qqkm946s6p55jwd60wd7w2n40000gn/T/ipykernel_54076/2646359967.py:5: UserWarning: volatile was removed and now has no effect. Use `with torch.no_grad():` instead.\n",
      "  test_data = Variable(train_features, volatile=True).float()\n"
     ]
    },
    {
     "name": "stdout",
     "output_type": "stream",
     "text": [
      "epoch: [1/0] | Loss: 0.6562 | TR_acc: 0.7812 | TS_acc: 0.7188 | Time: 7.5\n",
      "epoch: [1/0] | Loss: 0.5649 | TR_acc: 0.8219 | TS_acc: 0.7188 | Time: 7.8\n",
      "epoch: [1/0] | Loss: 0.6395 | TR_acc: 0.7891 | TS_acc: 0.7188 | Time: 8.1\n",
      "epoch: [1/0] | Loss: 0.6255 | TR_acc: 0.7969 | TS_acc: 0.7188 | Time: 8.5\n",
      "epoch: [1/0] | Loss: 0.6590 | TR_acc: 0.7719 | TS_acc: 0.7188 | Time: 8.8\n",
      "epoch: [1/0] | Loss: 0.5700 | TR_acc: 0.8078 | TS_acc: 0.7188 | Time: 9.2\n",
      "epoch: [1/0] | Loss: 0.5826 | TR_acc: 0.8141 | TS_acc: 0.7188 | Time: 9.5\n",
      "epoch: [1/0] | Loss: 0.5729 | TR_acc: 0.8219 | TS_acc: 0.7188 | Time: 9.9\n",
      "epoch: [1/0] | Loss: 0.5737 | TR_acc: 0.8078 | TS_acc: 0.7188 | Time: 10.2\n",
      "epoch: [1/0] | Loss: 0.5505 | TR_acc: 0.8125 | TS_acc: 0.7188 | Time: 10.8\n",
      "epoch: [1/0] | Loss: 0.5850 | TR_acc: 0.8031 | TS_acc: 0.7188 | Time: 11.2\n",
      "epoch: [1/0] | Loss: 0.6137 | TR_acc: 0.7984 | TS_acc: 0.7188 | Time: 11.5\n",
      "epoch: [1/0] | Loss: 0.6513 | TR_acc: 0.7875 | TS_acc: 0.7188 | Time: 11.9\n",
      "epoch: [1/0] | Loss: 0.6548 | TR_acc: 0.7844 | TS_acc: 0.7188 | Time: 12.2\n",
      "epoch: [1/0] | Loss: 0.6358 | TR_acc: 0.7719 | TS_acc: 0.7188 | Time: 12.6\n",
      "epoch: [1/0] | Loss: 0.5942 | TR_acc: 0.8031 | TS_acc: 0.7188 | Time: 12.9\n",
      "epoch: [1/0] | Loss: 0.5981 | TR_acc: 0.7797 | TS_acc: 0.7188 | Time: 13.3\n",
      "epoch: [1/0] | Loss: 0.6398 | TR_acc: 0.7594 | TS_acc: 0.7188 | Time: 13.6\n",
      "epoch: [1/0] | Loss: 0.6091 | TR_acc: 0.8016 | TS_acc: 0.7188 | Time: 14.0\n",
      "epoch: [1/0] | Loss: 0.5910 | TR_acc: 0.7859 | TS_acc: 0.7188 | Time: 14.3\n",
      "epoch: [1/0] | Loss: 0.6166 | TR_acc: 0.7922 | TS_acc: 0.7188 | Time: 14.7\n",
      "epoch: [1/0] | Loss: 0.5939 | TR_acc: 0.7969 | TS_acc: 0.7188 | Time: 15.1\n",
      "epoch: [1/0] | Loss: 0.6068 | TR_acc: 0.7969 | TS_acc: 0.7188 | Time: 15.4\n",
      "epoch: [1/0] | Loss: 0.6000 | TR_acc: 0.7828 | TS_acc: 0.7188 | Time: 15.8\n",
      "epoch: [1/0] | Loss: 0.6530 | TR_acc: 0.7781 | TS_acc: 0.7188 | Time: 16.2\n",
      "epoch: [1/0] | Loss: 0.5651 | TR_acc: 0.8156 | TS_acc: 0.7188 | Time: 16.5\n",
      "epoch: [1/0] | Loss: 0.6389 | TR_acc: 0.7906 | TS_acc: 0.7188 | Time: 16.9\n",
      "epoch: [1/0] | Loss: 0.6023 | TR_acc: 0.7734 | TS_acc: 0.7188 | Time: 17.3\n",
      "epoch: [1/0] | Loss: 0.6256 | TR_acc: 0.7828 | TS_acc: 0.7188 | Time: 17.6\n",
      "epoch: [1/0] | Loss: 0.5936 | TR_acc: 0.7937 | TS_acc: 0.7188 | Time: 18.0\n",
      "epoch: [1/0] | Loss: 0.6862 | TR_acc: 0.7703 | TS_acc: 0.7188 | Time: 18.3\n",
      "epoch: [1/0] | Loss: 0.6159 | TR_acc: 0.7812 | TS_acc: 0.7188 | Time: 18.7\n",
      "epoch: [1/0] | Loss: 0.6415 | TR_acc: 0.7609 | TS_acc: 0.7188 | Time: 19.1\n",
      "epoch: [1/0] | Loss: 0.6505 | TR_acc: 0.7609 | TS_acc: 0.7188 | Time: 19.4\n",
      "epoch: [1/0] | Loss: 0.5685 | TR_acc: 0.8078 | TS_acc: 0.7188 | Time: 19.8\n",
      "epoch: [1/0] | Loss: 0.5910 | TR_acc: 0.8078 | TS_acc: 0.7188 | Time: 20.1\n",
      "epoch: [1/0] | Loss: 0.6096 | TR_acc: 0.7984 | TS_acc: 0.7188 | Time: 20.4\n",
      "epoch: [1/0] | Loss: 0.5458 | TR_acc: 0.8000 | TS_acc: 0.7188 | Time: 20.9\n",
      "epoch: [2/1] | Loss: 0.6400 | TR_acc: 0.7797 | TS_acc: 0.7188 | Time: 28.8\n",
      "epoch: [2/1] | Loss: 0.6392 | TR_acc: 0.7797 | TS_acc: 0.7188 | Time: 29.1\n",
      "epoch: [2/1] | Loss: 0.5753 | TR_acc: 0.8063 | TS_acc: 0.7188 | Time: 29.5\n",
      "epoch: [2/1] | Loss: 0.5882 | TR_acc: 0.7922 | TS_acc: 0.7188 | Time: 29.9\n",
      "epoch: [2/1] | Loss: 0.6171 | TR_acc: 0.8016 | TS_acc: 0.7188 | Time: 30.3\n",
      "epoch: [2/1] | Loss: 0.6383 | TR_acc: 0.7859 | TS_acc: 0.7188 | Time: 30.6\n",
      "epoch: [2/1] | Loss: 0.6471 | TR_acc: 0.7719 | TS_acc: 0.7188 | Time: 31.1\n",
      "epoch: [2/1] | Loss: 0.5377 | TR_acc: 0.8047 | TS_acc: 0.7188 | Time: 31.4\n",
      "epoch: [2/1] | Loss: 0.6624 | TR_acc: 0.7812 | TS_acc: 0.7188 | Time: 31.8\n",
      "epoch: [2/1] | Loss: 0.5938 | TR_acc: 0.7984 | TS_acc: 0.7188 | Time: 32.2\n",
      "epoch: [2/1] | Loss: 0.6009 | TR_acc: 0.7875 | TS_acc: 0.7188 | Time: 32.5\n",
      "epoch: [2/1] | Loss: 0.5998 | TR_acc: 0.7937 | TS_acc: 0.7188 | Time: 32.9\n",
      "epoch: [2/1] | Loss: 0.6174 | TR_acc: 0.7906 | TS_acc: 0.7188 | Time: 33.2\n",
      "epoch: [2/1] | Loss: 0.6198 | TR_acc: 0.7828 | TS_acc: 0.7188 | Time: 33.6\n",
      "epoch: [2/1] | Loss: 0.5656 | TR_acc: 0.7984 | TS_acc: 0.7188 | Time: 34.0\n",
      "epoch: [2/1] | Loss: 0.5966 | TR_acc: 0.7828 | TS_acc: 0.7188 | Time: 34.3\n",
      "epoch: [2/1] | Loss: 0.6291 | TR_acc: 0.7875 | TS_acc: 0.7188 | Time: 34.7\n",
      "epoch: [2/1] | Loss: 0.5955 | TR_acc: 0.7797 | TS_acc: 0.7188 | Time: 35.1\n",
      "epoch: [2/1] | Loss: 0.5681 | TR_acc: 0.8250 | TS_acc: 0.7188 | Time: 35.5\n",
      "epoch: [2/1] | Loss: 0.6057 | TR_acc: 0.8078 | TS_acc: 0.7188 | Time: 35.9\n",
      "epoch: [2/1] | Loss: 0.5807 | TR_acc: 0.8125 | TS_acc: 0.7188 | Time: 36.3\n",
      "epoch: [2/1] | Loss: 0.6016 | TR_acc: 0.8109 | TS_acc: 0.7188 | Time: 36.6\n",
      "epoch: [2/1] | Loss: 0.6609 | TR_acc: 0.7688 | TS_acc: 0.7188 | Time: 37.0\n",
      "epoch: [2/1] | Loss: 0.5765 | TR_acc: 0.8078 | TS_acc: 0.7188 | Time: 37.4\n",
      "epoch: [2/1] | Loss: 0.6863 | TR_acc: 0.7641 | TS_acc: 0.7188 | Time: 37.8\n",
      "epoch: [2/1] | Loss: 0.5588 | TR_acc: 0.8172 | TS_acc: 0.7188 | Time: 38.1\n",
      "epoch: [2/1] | Loss: 0.6181 | TR_acc: 0.7828 | TS_acc: 0.7188 | Time: 38.5\n",
      "epoch: [2/1] | Loss: 0.6304 | TR_acc: 0.7859 | TS_acc: 0.7188 | Time: 38.9\n",
      "epoch: [2/1] | Loss: 0.6442 | TR_acc: 0.7656 | TS_acc: 0.7188 | Time: 39.2\n",
      "epoch: [2/1] | Loss: 0.5814 | TR_acc: 0.8047 | TS_acc: 0.7188 | Time: 39.6\n",
      "epoch: [2/1] | Loss: 0.5851 | TR_acc: 0.8016 | TS_acc: 0.7188 | Time: 40.0\n",
      "epoch: [2/1] | Loss: 0.6397 | TR_acc: 0.7859 | TS_acc: 0.7188 | Time: 40.3\n",
      "epoch: [2/1] | Loss: 0.5989 | TR_acc: 0.8063 | TS_acc: 0.7188 | Time: 40.8\n",
      "epoch: [2/1] | Loss: 0.6428 | TR_acc: 0.7766 | TS_acc: 0.7188 | Time: 41.2\n",
      "epoch: [2/1] | Loss: 0.6282 | TR_acc: 0.7766 | TS_acc: 0.7188 | Time: 41.6\n",
      "epoch: [2/1] | Loss: 0.5848 | TR_acc: 0.7969 | TS_acc: 0.7188 | Time: 41.9\n",
      "epoch: [2/1] | Loss: 0.5800 | TR_acc: 0.8031 | TS_acc: 0.7188 | Time: 42.3\n",
      "epoch: [2/1] | Loss: 0.6180 | TR_acc: 0.7906 | TS_acc: 0.7188 | Time: 42.7\n",
      "epoch: [3/2] | Loss: 0.5900 | TR_acc: 0.7750 | TS_acc: 0.7188 | Time: 50.6\n",
      "epoch: [3/2] | Loss: 0.6451 | TR_acc: 0.7953 | TS_acc: 0.7188 | Time: 51.0\n",
      "epoch: [3/2] | Loss: 0.5854 | TR_acc: 0.7891 | TS_acc: 0.7188 | Time: 51.5\n",
      "epoch: [3/2] | Loss: 0.6041 | TR_acc: 0.8016 | TS_acc: 0.7188 | Time: 51.8\n",
      "epoch: [3/2] | Loss: 0.6519 | TR_acc: 0.7875 | TS_acc: 0.7188 | Time: 52.2\n",
      "epoch: [3/2] | Loss: 0.6106 | TR_acc: 0.7875 | TS_acc: 0.7188 | Time: 52.6\n",
      "epoch: [3/2] | Loss: 0.6521 | TR_acc: 0.7937 | TS_acc: 0.7188 | Time: 53.0\n",
      "epoch: [3/2] | Loss: 0.6374 | TR_acc: 0.7688 | TS_acc: 0.7188 | Time: 53.4\n",
      "epoch: [3/2] | Loss: 0.5868 | TR_acc: 0.8000 | TS_acc: 0.7188 | Time: 53.7\n",
      "epoch: [3/2] | Loss: 0.6436 | TR_acc: 0.7781 | TS_acc: 0.7188 | Time: 54.1\n",
      "epoch: [3/2] | Loss: 0.6113 | TR_acc: 0.7906 | TS_acc: 0.7188 | Time: 54.5\n",
      "epoch: [3/2] | Loss: 0.5957 | TR_acc: 0.7953 | TS_acc: 0.7188 | Time: 54.9\n",
      "epoch: [3/2] | Loss: 0.6362 | TR_acc: 0.7828 | TS_acc: 0.7188 | Time: 55.2\n",
      "epoch: [3/2] | Loss: 0.6367 | TR_acc: 0.7766 | TS_acc: 0.7188 | Time: 55.6\n",
      "epoch: [3/2] | Loss: 0.5908 | TR_acc: 0.8031 | TS_acc: 0.7188 | Time: 56.0\n",
      "epoch: [3/2] | Loss: 0.5608 | TR_acc: 0.8313 | TS_acc: 0.7188 | Time: 56.4\n",
      "epoch: [3/2] | Loss: 0.5003 | TR_acc: 0.8266 | TS_acc: 0.7188 | Time: 57.0\n",
      "epoch: [3/2] | Loss: 0.5993 | TR_acc: 0.7891 | TS_acc: 0.7188 | Time: 57.3\n",
      "epoch: [3/2] | Loss: 0.6094 | TR_acc: 0.7937 | TS_acc: 0.7188 | Time: 57.7\n",
      "epoch: [3/2] | Loss: 0.6255 | TR_acc: 0.7891 | TS_acc: 0.7188 | Time: 58.0\n",
      "epoch: [3/2] | Loss: 0.6090 | TR_acc: 0.7781 | TS_acc: 0.7188 | Time: 58.4\n",
      "epoch: [3/2] | Loss: 0.6544 | TR_acc: 0.7937 | TS_acc: 0.7188 | Time: 58.8\n",
      "epoch: [3/2] | Loss: 0.6410 | TR_acc: 0.7859 | TS_acc: 0.7188 | Time: 59.1\n",
      "epoch: [3/2] | Loss: 0.6213 | TR_acc: 0.7875 | TS_acc: 0.7188 | Time: 59.5\n",
      "epoch: [3/2] | Loss: 0.6299 | TR_acc: 0.7781 | TS_acc: 0.7188 | Time: 59.9\n",
      "epoch: [3/2] | Loss: 0.5988 | TR_acc: 0.7953 | TS_acc: 0.7188 | Time: 60.3\n",
      "epoch: [3/2] | Loss: 0.5972 | TR_acc: 0.7906 | TS_acc: 0.7188 | Time: 60.7\n",
      "epoch: [3/2] | Loss: 0.5987 | TR_acc: 0.7891 | TS_acc: 0.7188 | Time: 61.0\n",
      "epoch: [3/2] | Loss: 0.6163 | TR_acc: 0.7891 | TS_acc: 0.7188 | Time: 61.5\n",
      "epoch: [3/2] | Loss: 0.5634 | TR_acc: 0.8047 | TS_acc: 0.7188 | Time: 62.0\n",
      "epoch: [3/2] | Loss: 0.5505 | TR_acc: 0.8203 | TS_acc: 0.7188 | Time: 62.4\n",
      "epoch: [3/2] | Loss: 0.6060 | TR_acc: 0.8000 | TS_acc: 0.7188 | Time: 62.7\n",
      "epoch: [3/2] | Loss: 0.6293 | TR_acc: 0.7969 | TS_acc: 0.7188 | Time: 63.1\n",
      "epoch: [3/2] | Loss: 0.6132 | TR_acc: 0.8016 | TS_acc: 0.7188 | Time: 63.5\n",
      "epoch: [3/2] | Loss: 0.6425 | TR_acc: 0.7672 | TS_acc: 0.7188 | Time: 63.9\n",
      "epoch: [3/2] | Loss: 0.5722 | TR_acc: 0.8078 | TS_acc: 0.7188 | Time: 64.3\n",
      "epoch: [3/2] | Loss: 0.6017 | TR_acc: 0.7812 | TS_acc: 0.7188 | Time: 64.6\n",
      "epoch: [3/2] | Loss: 0.5853 | TR_acc: 0.7984 | TS_acc: 0.7188 | Time: 65.0\n"
     ]
    }
   ],
   "source": [
    "#! Train the model: Visualization of Loss\n",
    "viz = Visdom()\n",
    "#viz.images(train_features[:10],nrow=100)  # visdom可视化部分数据\n",
    "time.sleep(0.5) # 为防止可视化视窗重叠现象，停顿0.5秒\n",
    "test_data = Variable(train_features, volatile=True).float()\n",
    "line = viz.line(np.arange(10)) # 创建线图可视化窗口\n",
    "start_time = time.time() # 起始时间设置\n",
    "time_p, tr_acc, ts_acc, loss_p = [], [], [], [] # 可视化所需数据点\n",
    "text = viz.text(\"<h1>Convolution Nueral Network</h1>\") # 创建可视化数据视窗\n",
    "for epoch in range(num_epochs):\n",
    "    # 由于分批次学习，输出loss为一批平均，需要累积or平均每个batch的loss\n",
    "    sum_loss, sum_acc, sum_step = 0., 0., 0.\n",
    "    \n",
    "    for test_features, test_labels in test_loader:\n",
    "        test_features = Variable(test_features)\n",
    "        test_features = test_features.float()\n",
    "        test_labels = Variable(test_labels)\n",
    "\n",
    "    for i, (train_features, train_labels) in enumerate(train_loader, 1):\n",
    "        train_features = Variable(train_features)\n",
    "        train_features = train_features.float()\n",
    "        train_labels = Variable(train_labels)\n",
    "        \n",
    "        train_out = cnn(train_features)\n",
    "        loss = loss_func(train_out, train_labels) \n",
    "\n",
    "        sum_loss += loss.item()*len(train_labels)\n",
    "        _, pred_tr = torch.max(train_out.data, 1)\n",
    "        sum_acc += sum(pred_tr==train_labels).item()\n",
    "        sum_step += train_labels.size(0)\n",
    "\n",
    "        optimizer.zero_grad()  # 学习反馈\n",
    "        loss.backward()\n",
    "        optimizer.step()\n",
    "\n",
    "        if i % 20 == 0: # 每20个batch可视化一下数据\n",
    "            test_out = cnn(test_features)\n",
    "            _, pred_ts = torch.max(test_out.data, 1)\n",
    "\n",
    "            rightnum = pred_ts.eq(test_labels.view_as(pred_ts)).sum().item()\n",
    "            acc =  rightnum/float(test_labels.size(0))\n",
    "            print(\"epoch: [{}/{}] | Loss: {:.4f} | TR_acc: {:.4f} | TS_acc: {:.4f} | Time: {:.1f}\".format(epoch+1, epoch,\n",
    "                                    sum_loss/(sum_step), sum_acc/(sum_step), acc, time.time()-start_time))\n",
    "            # 可视化部分\n",
    "            time_p.append(time.time()-start_time)\n",
    "            tr_acc.append(sum_acc/sum_step)\n",
    "            ts_acc.append(acc)\n",
    "            loss_p.append(sum_loss/sum_step)\n",
    "            viz.line(X=np.column_stack((np.array(time_p), np.array(time_p), np.array(time_p))),\n",
    "                     Y=np.column_stack((np.array(loss_p), np.array(tr_acc), np.array(ts_acc))),\n",
    "                     win=line,\n",
    "                     opts=dict(legend=[\"Loss\", \"TRAIN_acc\", \"TEST_acc\"],\n",
    "                     ytickmin=0, ytickmax=2, ytickstep=0.5,\n",
    "                     ))\n",
    "            # visdom text 支持html语句\n",
    "            viz.text(\"<p style='color:red'>epoch:{}</p><br><p style='color:blue'>Loss:{:.4f}</p><br>\"\n",
    "                     \"<p style='color:BlueViolet'>TRAIN_acc:{:.4f}</p><br><p style='color:orange'>TEST_acc:{:.4f}</p><br>\"\n",
    "                     \"<p style='color:green'>Time:{:.2f}</p>\".format(epoch, sum_loss/sum_step, sum_acc/sum_step, acc,\n",
    "                                time.time()-start_time),\n",
    "                     win=text)\n",
    "            sum_loss, sum_acc, sum_step = 0., 0., 0.\n",
    "    scheduler.step()"
   ]
  },
  {
   "cell_type": "markdown",
   "metadata": {},
   "source": [
    "# Test the model"
   ]
  },
  {
   "cell_type": "code",
   "execution_count": 11,
   "metadata": {},
   "outputs": [
    {
     "name": "stdout",
     "output_type": "stream",
     "text": [
      " Test Accuracy: 78 %\n"
     ]
    }
   ],
   "source": [
    "cnn.eval()  # Change to test form, application scenarios such as: dropout\n",
    "correct = 0\n",
    "total = 0\n",
    "for test_features, test_labels in test_loader:\n",
    "    test_features = Variable(test_features)\n",
    "    test_features = test_features.float()\n",
    "    test_labels = Variable(test_labels)\n",
    "\n",
    "    outputs = cnn(test_features)\n",
    "    _, predicted = torch.max(outputs.data, 1)\n",
    "    total += test_labels.size(0)\n",
    "    correct += (predicted == test_labels.data).sum()\n",
    "    \n",
    "print(' Test Accuracy: %d %%' % (100 * correct / total))\n",
    "\n",
    "# Save the Trained Model\n",
    "# torch.save(cnn.state_dict(), 'cnn.pkl')"
   ]
  },
  {
   "cell_type": "markdown",
   "metadata": {},
   "source": [
    "# Debugging ..."
   ]
  },
  {
   "cell_type": "code",
   "execution_count": 12,
   "metadata": {},
   "outputs": [
    {
     "name": "stdout",
     "output_type": "stream",
     "text": [
      "The last batch size should be 0\n",
      "outputs has a shape of: torch.Size([32, 9])\n",
      "\tthe 1st item is: torch.Size([9]) tensor([-0.2443,  4.7957, -0.6776, -3.9314, -2.2064,  2.4560,  0.6055, -0.2776,\n",
      "        -1.8728], grad_fn=<SelectBackward0>)\n",
      "predicted has a shape of: torch.Size([32])\n",
      "\tthe 1st item is: torch.Size([]) tensor(1)\n",
      "test_labels has a shape of: torch.Size([32])\n",
      "\tthe 1st item is: torch.Size([]) tensor(8)\n"
     ]
    }
   ],
   "source": [
    "print(\"The last batch size should be\", len(shmDS)%batch_size)\n",
    "print(\"outputs has a shape of:\", outputs.shape)\n",
    "print(\"\\tthe 1st item is:\", outputs[1].shape, outputs[1])\n",
    "\n",
    "print(\"predicted has a shape of:\", predicted.shape)\n",
    "print(\"\\tthe 1st item is:\", predicted[1].shape, predicted[1])\n",
    "\n",
    "print(\"test_labels has a shape of:\", test_labels.shape)\n",
    "print(\"\\tthe 1st item is:\", test_labels[1].shape, test_labels[1])"
   ]
  }
 ],
 "metadata": {
  "interpreter": {
   "hash": "3067ead486e059ec00ffe7555bdb889e6e264a24dc711bf108106cc7baee8d5d"
  },
  "kernelspec": {
   "display_name": "Python 3.8.8 64-bit ('base': conda)",
   "language": "python",
   "name": "python3"
  },
  "language_info": {
   "codemirror_mode": {
    "name": "ipython",
    "version": 3
   },
   "file_extension": ".py",
   "mimetype": "text/x-python",
   "name": "python",
   "nbconvert_exporter": "python",
   "pygments_lexer": "ipython3",
   "version": "3.8.12"
  },
  "orig_nbformat": 4
 },
 "nbformat": 4,
 "nbformat_minor": 2
}
