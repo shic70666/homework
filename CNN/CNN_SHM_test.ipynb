{
 "cells": [
  {
   "cell_type": "code",
   "execution_count": 1,
   "metadata": {},
   "outputs": [
    {
     "data": {
      "text/plain": [
       "<torch._C.Generator at 0x7f99c0c0dd90>"
      ]
     },
     "execution_count": 1,
     "metadata": {},
     "output_type": "execute_result"
    }
   ],
   "source": [
    "import torch\n",
    "import torch.nn as nn\n",
    "from torch.utils.data import Dataset, DataLoader\n",
    "from torch.autograd import Variable\n",
    "from torchvision import transforms\n",
    "from pathlib import Path\n",
    "from matplotlib import pyplot as plt\n",
    "import pandas as pd\n",
    "import numpy as np\n",
    "import os\n",
    "\n",
    "torch.manual_seed(1)"
   ]
  },
  {
   "cell_type": "markdown",
   "metadata": {},
   "source": [
    "# Hyperparameters"
   ]
  },
  {
   "cell_type": "code",
   "execution_count": 2,
   "metadata": {},
   "outputs": [],
   "source": [
    "#! Hyper Parameters\n",
    "num_epochs = 5\n",
    "batch_size = 32\n",
    "learning_rate = 0.1"
   ]
  },
  {
   "cell_type": "markdown",
   "metadata": {},
   "source": [
    "# Pre-processing"
   ]
  },
  {
   "cell_type": "code",
   "execution_count": 3,
   "metadata": {},
   "outputs": [],
   "source": [
    "class SHM_Dataset(Dataset):\n",
    "    \"\"\" Prepare dataset for pytorch\n",
    "        Ref: https://pytorch.org/tutorials/beginner/basics/data_tutorial.html\n",
    "    \"\"\"\n",
    "\n",
    "    def __init__(self, case, data_file, transform): \n",
    "        self.case = case\n",
    "        self.data_file = Path(data_file)\n",
    "        self.data_df = pd.read_json(self.data_file, dtype=np.array)\n",
    "        # self.data = self.data_df.cat()\n",
    "        self.data = self.data_df.stack()\n",
    "        self.labels = pd.DataFrame([self.case,]*self.data_df.shape[0]*self.data_df.shape[1])\n",
    "        self.transform = transform\n",
    "    \n",
    "    def __len__(self):\n",
    "        return self.labels.shape[0]\n",
    "\n",
    "    def __getitem__(self, index):\n",
    "        label = int(self.labels.iloc[index])\n",
    "        feature = np.array(self.data.iloc[index])\n",
    "\n",
    "        # trans1 = transforms.ToTensor()\n",
    "        # feature_tr1 = trans1(feature)\n",
    "        # mean, std = feature_tr1.mean(), feature_tr1.std()\n",
    "        mean, std = feature.mean(), feature.std()\n",
    "\n",
    "        trans2 = transforms.Compose([transforms.ToTensor(), transforms.Normalize(mean, std)])\n",
    "        feature_tr2 = trans2(feature)\n",
    "        # print(f\"feature: {feature.shape}, label: {label.shape}\")\n",
    "        return feature_tr2, label\n",
    "\n",
    "\n",
    "# shmDS = SHM_Dataset(1, \"~/Codes/homework/data/SHM/shm01s.json\")\n",
    "# print(\"There is\", len(shmDS), \"samples in the given dataset\")"
   ]
  },
  {
   "cell_type": "markdown",
   "metadata": {},
   "source": [
    "The target span needs to be 0 to N-1 [Ref: IndexError: Target is out of bounds](https://pytorch.org/docs/master/generated/torch.nn.CrossEntropyLoss.html)"
   ]
  },
  {
   "cell_type": "code",
   "execution_count": 4,
   "metadata": {},
   "outputs": [],
   "source": [
    "trans = transforms.Compose([transforms.ToTensor(), transforms.Normalize((0.5,), (0.5,))])\n",
    "# trans = transforms.ToTensor()\n",
    "\n",
    "shmDS_1 = SHM_Dataset(0, \"~/Codes/homework/data/SHM/shm01s.json\", trans) # Case 1\n",
    "shmDS_2 = SHM_Dataset(1, \"~/Codes/homework/data/SHM/shm02s.json\", trans)\n",
    "shmDS_3 = SHM_Dataset(2, \"~/Codes/homework/data/SHM/shm03s.json\", trans)\n",
    "shmDS_4 = SHM_Dataset(3, \"~/Codes/homework/data/SHM/shm04s.json\", trans)\n",
    "shmDS_5 = SHM_Dataset(4, \"~/Codes/homework/data/SHM/shm05s.json\", trans)\n",
    "shmDS_6 = SHM_Dataset(5, \"~/Codes/homework/data/SHM/shm06s.json\", trans)\n",
    "shmDS_7 = SHM_Dataset(6, \"~/Codes/homework/data/SHM/shm07s.json\", trans)\n",
    "shmDS_8 = SHM_Dataset(7, \"~/Codes/homework/data/SHM/shm08s.json\", trans)\n",
    "shmDS_9 = SHM_Dataset(8, \"~/Codes/homework/data/SHM/shm09s.json\", trans)\n",
    "shmDS = shmDS_1 + shmDS_2 + shmDS_3 + shmDS_4 + shmDS_5 + shmDS_6 + shmDS_7 + shmDS_8 + shmDS_9"
   ]
  },
  {
   "cell_type": "code",
   "execution_count": 5,
   "metadata": {},
   "outputs": [
    {
     "name": "stdout",
     "output_type": "stream",
     "text": [
      "There is 24672 samples in the given dataset\n"
     ]
    }
   ],
   "source": [
    "print(\"There is\", len(shmDS), \"samples in the given dataset\")"
   ]
  },
  {
   "cell_type": "markdown",
   "metadata": {},
   "source": [
    "Let's have a look on a single sample:"
   ]
  },
  {
   "cell_type": "code",
   "execution_count": 6,
   "metadata": {},
   "outputs": [
    {
     "name": "stdout",
     "output_type": "stream",
     "text": [
      "Feature batch shape: torch.Size([32, 1, 16, 16])\n",
      "Labels batch shape: torch.Size([32])\n"
     ]
    },
    {
     "data": {
      "image/png": "[encoded data removed]",
      "text/plain": [
       "<Figure size 432x288 with 1 Axes>"
      ]
     },
     "metadata": {
      "needs_background": "light"
     },
     "output_type": "display_data"
    },
    {
     "name": "stdout",
     "output_type": "stream",
     "text": [
      "Input features: torch.Size([16, 16])\n",
      "\ttensor([[-1.8351e+00, -1.4840e+00, -1.0692e+00,  1.1173e-02,  2.0173e+00,\n",
      "          4.4214e-01, -2.0250e+00, -1.1489e+00, -6.1356e-01, -8.5416e-01,\n",
      "          1.1679e+00,  2.5220e+00,  7.8409e-01, -2.6112e-01, -1.9567e-01,\n",
      "         -7.2808e-01],\n",
      "        [ 2.6712e-02,  9.5666e-01,  2.5714e-01, -1.1131e-01, -2.7894e-01,\n",
      "         -1.4273e+00, -1.4631e+00, -2.3086e-01,  3.0422e-01,  1.9526e-01,\n",
      "          8.5145e-01,  6.1298e-01, -2.0938e-01,  1.5888e-01,  3.3639e-01,\n",
      "          1.9480e-01],\n",
      "        [ 5.5841e-01,  1.2744e-01, -7.8847e-01, -3.8050e-01,  2.2415e-01,\n",
      "          7.1855e-01,  3.6820e-01, -8.2138e-01, -1.3975e+00, -2.9768e-01,\n",
      "          7.8436e-01,  4.3849e-01,  3.7780e-01,  7.2650e-01, -5.2779e-01,\n",
      "         -1.2758e+00],\n",
      "        [-3.1651e-01,  6.3875e-01,  8.1279e-01,  5.6609e-01,  3.8547e-01,\n",
      "         -1.4476e-01, -4.5122e-01,  2.7880e-01,  7.4213e-01,  3.2094e-01,\n",
      "         -2.7227e-01, -6.1371e-01, -1.1920e+00, -1.5136e+00, -4.6419e-01,\n",
      "          6.5009e-01],\n",
      "        [ 1.1223e+00,  1.2954e+00,  7.2705e-01, -3.7283e-01, -5.6391e-01,\n",
      "         -2.3644e-01,  8.1555e-02,  6.2596e-01,  1.2371e+00,  7.0950e-01,\n",
      "         -3.7283e-01, -1.2554e+00, -1.7976e+00, -9.5458e-01,  3.2149e-01,\n",
      "          4.8410e-01],\n",
      "        [ 7.4295e-01,  5.2441e-01, -7.3756e-01, -1.2610e+00, -6.1579e-01,\n",
      "          1.1841e+00,  2.1201e+00,  1.3026e+00,  6.9542e-01, -4.2235e-01,\n",
      "         -2.4133e+00, -1.6828e+00,  7.7897e-01,  8.5090e-01,  2.5294e-01,\n",
      "          4.7569e-01],\n",
      "        [-1.0646e+00, -2.4698e+00, -5.1175e-01,  9.2759e-01,  8.5200e-01,\n",
      "          2.1514e+00,  1.8013e+00, -5.5317e-01, -1.3337e+00, -7.9851e-01,\n",
      "         -2.2922e-01,  1.1493e+00,  1.4458e+00, -2.0856e-01, -8.5346e-01,\n",
      "         -8.8680e-01],\n",
      "        [-1.8393e+00, -8.5527e-01,  1.6351e+00,  1.9253e+00,  8.7896e-01,\n",
      "         -2.4622e-01, -1.4724e+00, -1.4075e+00, -1.4211e-01,  8.1032e-01,\n",
      "          2.0096e+00,  1.9139e+00, -4.0653e-02, -1.1630e+00, -1.4910e+00,\n",
      "         -1.5342e+00],\n",
      "        [ 8.7404e-02,  1.4296e+00,  3.9370e-01,  3.3750e-02,  4.8967e-01,\n",
      "         -6.6154e-01, -1.0540e+00, -4.3491e-04, -9.7963e-02, -8.0048e-02,\n",
      "          1.1370e+00,  1.1395e+00, -4.9613e-01, -1.1722e+00, -5.5959e-01,\n",
      "          2.9901e-01],\n",
      "        [ 1.8003e+00,  1.6007e+00, -7.5960e-01, -1.7482e+00, -1.6907e+00,\n",
      "         -1.1132e+00,  5.0640e-01,  1.7157e+00,  1.0936e+00, -4.9766e-01,\n",
      "         -1.3412e+00, -9.8262e-01, -5.7521e-01,  5.5009e-01,  2.0454e+00,\n",
      "          1.8724e+00],\n",
      "        [ 5.2340e-01, -2.0098e-01, -6.6587e-01, -1.3528e+00, -9.9977e-01,\n",
      "         -7.5021e-02,  2.4508e-01,  6.0027e-01,  6.4991e-01, -8.6002e-01,\n",
      "         -1.5029e+00, -2.8982e-01,  4.8839e-01,  1.3370e+00,  1.7616e+00,\n",
      "          1.1593e+00],\n",
      "        [-2.3214e-01, -1.6637e+00, -1.0387e+00,  1.0119e+00,  1.5603e+00,\n",
      "          3.3356e-01, -3.7688e-01, -6.5374e-01, -1.5733e+00, -1.6309e+00,\n",
      "         -1.9220e-01,  5.7075e-01,  1.5575e+00,  1.3226e+00, -5.9418e-01,\n",
      "         -6.8373e-01],\n",
      "        [ 3.8410e-01,  9.4077e-02,  4.6730e-02,  1.2816e+00,  9.7402e-01,\n",
      "         -8.2962e-01, -1.0154e+00, -6.8902e-01, -1.2298e+00, -3.5717e-02,\n",
      "          1.0126e+00,  2.2478e-01, -1.5061e-01, -4.9236e-01, -1.5376e+00,\n",
      "         -9.0855e-01],\n",
      "        [ 1.1309e+00,  2.1582e+00,  1.6399e+00,  5.2898e-01, -1.2427e+00,\n",
      "         -1.7879e+00, -2.3224e-01,  5.3263e-01,  1.9389e-01,  9.9349e-01,\n",
      "          9.8774e-01, -9.2948e-01, -1.7538e+00, -8.4244e-01, -4.7103e-01,\n",
      "          3.1648e-02],\n",
      "        [ 1.5852e+00,  1.1774e+00, -2.4275e-01,  8.0549e-02, -1.4842e-01,\n",
      "         -3.0417e-01,  8.0986e-01,  8.6571e-01, -2.4832e-01, -3.1203e-01,\n",
      "          3.8869e-02, -9.1929e-01, -1.0761e+00,  7.6206e-01,  8.6763e-01,\n",
      "         -2.1743e-01],\n",
      "        [ 2.9654e-01, -2.4017e-02, -9.7006e-01, -7.2194e-01,  2.3594e-01,\n",
      "          8.3418e-01,  1.3734e+00,  7.5118e-01, -2.8744e-01, -5.0422e-01,\n",
      "         -5.5123e-01, -7.9433e-01,  2.2972e-01,  9.5647e-01,  3.7487e-01,\n",
      "         -2.9421e-01]], dtype=torch.float64)\n",
      "Label: torch.Size([])\n",
      "\t7\n"
     ]
    }
   ],
   "source": [
    "train_loader = DataLoader(shmDS, batch_size=batch_size, shuffle=True) # split samples into mini-batches and reshuffle the data to reduce overfitting\n",
    "test_loader = DataLoader(shmDS, batch_size=batch_size, shuffle=False)\n",
    "\n",
    "train_features, train_labels = next(iter(train_loader))\n",
    "# train_features = train_features.unsqueeze(dim=1)\n",
    "print(f\"Feature batch shape: {train_features.size()}\")\n",
    "print(f\"Labels batch shape: {train_labels.size()}\")\n",
    "\n",
    "img = train_features[0].squeeze()\n",
    "label = train_labels[0]\n",
    "fig, axis = plt.subplots()\n",
    "axis.imshow(img, cmap=\"gray\")\n",
    "\n",
    "axis.set(title=f\"Label: {label}\", xticks=range(16), yticks=range(16))\n",
    "plt.show()\n",
    "print(f\"Input features: {img.shape}\\n\\t{img}\")\n",
    "print(f\"Label: {label.shape}\\n\\t{label}\")"
   ]
  },
  {
   "cell_type": "markdown",
   "metadata": {},
   "source": [
    "# Build the neural network\n",
    "\n",
    "## CNN Model"
   ]
  },
  {
   "cell_type": "code",
   "execution_count": 7,
   "metadata": {},
   "outputs": [],
   "source": [
    "# Four-layer convolution\n",
    "class CNN(nn.Module):\n",
    "    def __init__(self):\n",
    "        super(CNN, self).__init__()\n",
    "        ## by HB\n",
    "        # self.conv1 = nn.Sequential(\n",
    "        #     nn.Conv2d(1, 4, kernel_size=4, padding=1),\n",
    "        #     nn.BatchNorm2d(4),\n",
    "        #     nn.ReLU(),\n",
    "        #     nn.MaxPool2d(2))\n",
    "        # self.conv2 = nn.Sequential(\n",
    "        #     nn.Conv2d(4, 8, kernel_size=4, padding=1),\n",
    "        #     nn.BatchNorm2d(8),\n",
    "        #     nn.ReLU(),\n",
    "        #     nn.MaxPool2d(2))\n",
    "        # self.fc = nn.Linear(3*3*8, 9)\n",
    "        \n",
    "        ## by Chen\n",
    "        self.conv1 = nn.Sequential(\n",
    "            nn.Conv2d(1, 4, kernel_size=3, padding=1),\n",
    "            nn.BatchNorm2d(4),\n",
    "            nn.ReLU(),\n",
    "            nn.MaxPool2d(2))\n",
    "        self.conv2 = nn.Sequential(\n",
    "            nn.Conv2d(4, 8, kernel_size=3, padding=1),\n",
    "            nn.BatchNorm2d(8),\n",
    "            nn.ReLU(),\n",
    "            nn.MaxPool2d(2))\n",
    "        self.conv3 = nn.Sequential(\n",
    "            nn.Conv2d(8, 16, kernel_size=3, padding=1),\n",
    "            nn.BatchNorm2d(16),\n",
    "            nn.ReLU(),\n",
    "            nn.MaxPool2d(2))\n",
    "        self.conv4 = nn.Sequential(\n",
    "            nn.Conv2d(16, 32, kernel_size=3, padding=1),\n",
    "            nn.BatchNorm2d(32),\n",
    "            nn.ReLU(),\n",
    "            nn.MaxPool2d(2))\n",
    "        self.fc = nn.Linear(32 * 1 * 1, 9)\n",
    "\n",
    "    def forward(self, x):\n",
    "        x = self.conv1(x)\n",
    "        x = self.conv2(x)\n",
    "        x = self.conv3(x)\n",
    "        x = self.conv4(x)\n",
    "        # print(x.shape)\n",
    "        x = x.view(x.size(0), -1) \n",
    "        # print(x.shape)\n",
    "        x = self.fc(x)\n",
    "        return x\n",
    "\n",
    "cnn = CNN()"
   ]
  },
  {
   "cell_type": "markdown",
   "metadata": {},
   "source": [
    "## Loss and Optimizer"
   ]
  },
  {
   "cell_type": "code",
   "execution_count": 8,
   "metadata": {},
   "outputs": [],
   "source": [
    "loss_func = nn.CrossEntropyLoss()\n",
    "# optimizer = torch.optim.Adam(cnn.parameters(), lr=learning_rate)\n",
    "optimizer = torch.optim.SGD(cnn.parameters(), lr=learning_rate)\n",
    "scheduler = torch.optim.lr_scheduler.ExponentialLR(optimizer, gamma=0.1)"
   ]
  },
  {
   "cell_type": "markdown",
   "metadata": {},
   "source": [
    "# Train the model"
   ]
  },
  {
   "cell_type": "code",
   "execution_count": 9,
   "metadata": {},
   "outputs": [
    {
     "name": "stdout",
     "output_type": "stream",
     "text": [
      "Epoch [1/5], Iter [100/771], Loss: 1.6231\n",
      "Epoch [1/5], Iter [200/771], Loss: 1.2762\n",
      "Epoch [1/5], Iter [300/771], Loss: 1.0707\n",
      "Epoch [1/5], Iter [400/771], Loss: 0.8717\n",
      "Epoch [1/5], Iter [500/771], Loss: 0.8612\n",
      "Epoch [1/5], Iter [600/771], Loss: 0.8882\n",
      "Epoch [1/5], Iter [700/771], Loss: 0.6024\n",
      "Epoch [2/5], Iter [100/771], Loss: 0.6382\n",
      "Epoch [2/5], Iter [200/771], Loss: 0.5865\n",
      "Epoch [2/5], Iter [300/771], Loss: 0.6786\n",
      "Epoch [2/5], Iter [400/771], Loss: 0.9338\n",
      "Epoch [2/5], Iter [500/771], Loss: 0.5297\n",
      "Epoch [2/5], Iter [600/771], Loss: 0.6635\n",
      "Epoch [2/5], Iter [700/771], Loss: 0.7730\n",
      "Epoch [3/5], Iter [100/771], Loss: 0.7348\n",
      "Epoch [3/5], Iter [200/771], Loss: 0.7714\n",
      "Epoch [3/5], Iter [300/771], Loss: 0.5944\n",
      "Epoch [3/5], Iter [400/771], Loss: 0.9174\n",
      "Epoch [3/5], Iter [500/771], Loss: 0.5424\n",
      "Epoch [3/5], Iter [600/771], Loss: 1.0600\n",
      "Epoch [3/5], Iter [700/771], Loss: 0.4468\n",
      "Epoch [4/5], Iter [100/771], Loss: 0.6460\n",
      "Epoch [4/5], Iter [200/771], Loss: 0.8578\n",
      "Epoch [4/5], Iter [300/771], Loss: 0.5569\n",
      "Epoch [4/5], Iter [400/771], Loss: 0.5848\n",
      "Epoch [4/5], Iter [500/771], Loss: 0.6329\n",
      "Epoch [4/5], Iter [600/771], Loss: 0.8324\n",
      "Epoch [4/5], Iter [700/771], Loss: 0.8952\n",
      "Epoch [5/5], Iter [100/771], Loss: 0.7589\n",
      "Epoch [5/5], Iter [200/771], Loss: 0.7962\n",
      "Epoch [5/5], Iter [300/771], Loss: 0.8758\n",
      "Epoch [5/5], Iter [400/771], Loss: 0.6419\n",
      "Epoch [5/5], Iter [500/771], Loss: 0.8546\n",
      "Epoch [5/5], Iter [600/771], Loss: 0.3738\n",
      "Epoch [5/5], Iter [700/771], Loss: 0.8210\n"
     ]
    }
   ],
   "source": [
    "for epoch in range(num_epochs):\n",
    "    for i, (train_features, train_labels) in enumerate(train_loader):\n",
    "        train_features = Variable(train_features)\n",
    "        # images = images.unsqueeze(dim=1)\n",
    "        train_features = train_features.float()\n",
    "        train_labels = Variable(train_labels)\n",
    "        # print(type(images), images)\n",
    "        # print(type(labels), labels)\n",
    "        # print(\"[ OK ] at this step\") \n",
    "\n",
    "        # Forward + Backward + Optimize\n",
    "        optimizer.zero_grad()\n",
    "        outputs = cnn(train_features)\n",
    "        loss = loss_func(outputs, train_labels)\n",
    "        loss.backward()\n",
    "        optimizer.step()\n",
    "\n",
    "        if (i + 1) % 100 == 0:\n",
    "            print('Epoch [%d/%d], Iter [%d/%d], Loss: %.4f'\n",
    "                  % (epoch + 1, num_epochs, i + 1, len(shmDS) // batch_size, loss.item()))\n",
    "    scheduler.step()"
   ]
  },
  {
   "cell_type": "markdown",
   "metadata": {},
   "source": [
    "# Test the model"
   ]
  },
  {
   "cell_type": "code",
   "execution_count": 10,
   "metadata": {},
   "outputs": [
    {
     "name": "stdout",
     "output_type": "stream",
     "text": [
      " Test Accuracy: 76 %\n"
     ]
    }
   ],
   "source": [
    "cnn.eval()  # Change to test form, application scenarios such as: dropout\n",
    "correct = 0\n",
    "total = 0\n",
    "for test_features, test_labels in test_loader:\n",
    "    test_features = Variable(test_features)\n",
    "    test_features = test_features.float()\n",
    "    test_labels = Variable(test_labels)\n",
    "\n",
    "    outputs = cnn(test_features)\n",
    "    _, predicted = torch.max(outputs.data, 1)\n",
    "    total += test_labels.size(0)\n",
    "    correct += (predicted == test_labels.data).sum()\n",
    "    \n",
    "print(' Test Accuracy: %d %%' % (100 * correct / total))\n",
    "\n",
    "# Save the Trained Model\n",
    "# torch.save(cnn.state_dict(), 'cnn.pkl')"
   ]
  },
  {
   "cell_type": "markdown",
   "metadata": {},
   "source": [
    "# Debugging ..."
   ]
  },
  {
   "cell_type": "code",
   "execution_count": 11,
   "metadata": {},
   "outputs": [
    {
     "name": "stdout",
     "output_type": "stream",
     "text": [
      "The last batch size should be 0\n",
      "outputs has a shape of: torch.Size([32, 9])\n",
      "\tthe 1st item is: torch.Size([9]) tensor([ 1.8984,  3.5344, -1.3566, -1.9045, -0.1323, -0.0386, -0.6414, -0.4197,\n",
      "        -2.0631], grad_fn=<SelectBackward0>)\n",
      "predicted has a shape of: torch.Size([32])\n",
      "\tthe 1st item is: torch.Size([]) tensor(1)\n",
      "test_labels has a shape of: torch.Size([32])\n",
      "\tthe 1st item is: torch.Size([]) tensor(8)\n"
     ]
    }
   ],
   "source": [
    "print(\"The last batch size should be\", len(shmDS)%batch_size)\n",
    "print(\"outputs has a shape of:\", outputs.shape)\n",
    "print(\"\\tthe 1st item is:\", outputs[1].shape, outputs[1])\n",
    "\n",
    "print(\"predicted has a shape of:\", predicted.shape)\n",
    "print(\"\\tthe 1st item is:\", predicted[1].shape, predicted[1])\n",
    "\n",
    "print(\"test_labels has a shape of:\", test_labels.shape)\n",
    "print(\"\\tthe 1st item is:\", test_labels[1].shape, test_labels[1])"
   ]
  }
 ],
 "metadata": {
  "interpreter": {
   "hash": "3067ead486e059ec00ffe7555bdb889e6e264a24dc711bf108106cc7baee8d5d"
  },
  "kernelspec": {
   "display_name": "Python 3.8.8 64-bit ('base': conda)",
   "language": "python",
   "name": "python3"
  },
  "language_info": {
   "codemirror_mode": {
    "name": "ipython",
    "version": 3
   },
   "file_extension": ".py",
   "mimetype": "text/x-python",
   "name": "python",
   "nbconvert_exporter": "python",
   "pygments_lexer": "ipython3",
   "version": "3.8.12"
  },
  "orig_nbformat": 4
 },
 "nbformat": 4,
 "nbformat_minor": 2
}
