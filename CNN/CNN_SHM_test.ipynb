{
 "cells": [
  {
   "cell_type": "code",
   "execution_count": 1,
   "metadata": {},
   "outputs": [],
   "source": [
    "import torch\n",
    "import torch.nn as nn\n",
    "# import torchvision.datasets as normal_datasets\n",
    "# import torchvision.transforms as transforms\n",
    "from torch.utils.data import Dataset, DataLoader\n",
    "from torch.autograd import Variable\n",
    "from pathlib import Path\n",
    "from matplotlib import pyplot as plt\n",
    "import pandas as pd\n",
    "import numpy as np\n",
    "import os"
   ]
  },
  {
   "cell_type": "markdown",
   "metadata": {},
   "source": [
    "# Pre-processing"
   ]
  },
  {
   "cell_type": "code",
   "execution_count": 2,
   "metadata": {},
   "outputs": [],
   "source": [
    "class SHM_Dataset(Dataset):\n",
    "    \"\"\" Prepare dataset for pytorch\n",
    "        Ref: https://pytorch.org/tutorials/beginner/basics/data_tutorial.html\n",
    "    \"\"\"\n",
    "\n",
    "    def __init__(self, case, data_file):\n",
    "        self.case = case\n",
    "        self.data_file = Path(data_file)\n",
    "        self.data_df = pd.read_json(self.data_file)\n",
    "        self.data = self.data_df.iloc[:, 1] # @Chen here I ONLY take a column of data as an example\n",
    "        self.labels = pd.DataFrame([1,]*self.data_df.shape[0]) # ONLY take a column as an example\n",
    "    \n",
    "    def __len__(self):\n",
    "        return self.labels.shape[0]\n",
    "\n",
    "    def __getitem__(self, index):\n",
    "        label = np.array(self.labels.iloc[index])\n",
    "        feature = np.array(self.data.iloc[index])\n",
    "        return feature, label\n",
    "\n",
    "shmDS = SHM_Dataset(1, \"~/Codes/homework/SHM/shm01s.json\")\n",
    "\n",
    "train_loader = DataLoader(shmDS, batch_size=32, shuffle=True) # split samples into mini-batches and reshuffle the data to reduce overfitting"
   ]
  },
  {
   "cell_type": "markdown",
   "metadata": {},
   "source": [
    "Let's have a look on a single sample:"
   ]
  },
  {
   "cell_type": "code",
   "execution_count": 3,
   "metadata": {},
   "outputs": [
    {
     "name": "stdout",
     "output_type": "stream",
     "text": [
      "Feature batch shape: torch.Size([32, 8, 16])\n",
      "Labels batch shape: torch.Size([32, 1])\n"
     ]
    },
    {
     "data": {
      "image/png": "[encoded data removed]",
      "text/plain": [
       "<Figure size 432x288 with 1 Axes>"
      ]
     },
     "metadata": {
      "needs_background": "light"
     },
     "output_type": "display_data"
    }
   ],
   "source": [
    "train_features, train_labels = next(iter(train_loader))\n",
    "print(f\"Feature batch shape: {train_features.size()}\")\n",
    "print(f\"Labels batch shape: {train_labels.size()}\")\n",
    "\n",
    "img = train_features[0].squeeze()\n",
    "label = train_labels[0]\n",
    "fig, axis = plt.subplots()\n",
    "axis.imshow(img, cmap=\"gray\")\n",
    "axis.set(title=f\"Label: {label}\", xticks=range(16), yticks=range(8))\n",
    "plt.show()\n"
   ]
  },
  {
   "cell_type": "markdown",
   "metadata": {},
   "source": [
    "# Build the neural network\n",
    "\n",
    "## CNN Model"
   ]
  },
  {
   "cell_type": "code",
   "execution_count": 18,
   "metadata": {},
   "outputs": [],
   "source": [
    "# Two-layer convolution\n",
    "class CNN(nn.Module):\n",
    "    def __init__(self):\n",
    "        super(CNN, self).__init__()\n",
    "        # Quick build with sequence tools\n",
    "        self.conv1 = nn.Sequential(\n",
    "            nn.Conv2d(1, 16, kernel_size=5, padding=2),\n",
    "            nn.BatchNorm2d(16),\n",
    "            nn.ReLU(),\n",
    "            nn.MaxPool2d(2))\n",
    "        self.conv2 = nn.Sequential(\n",
    "            nn.Conv2d(16, 32, kernel_size=5, padding=2),\n",
    "            nn.BatchNorm2d(32),\n",
    "            nn.ReLU(),\n",
    "            nn.MaxPool2d(2))\n",
    "        self.fc = nn.Linear(7 * 7 * 32, 10)\n",
    "\n",
    "    def forward(self, x):\n",
    "        out = self.conv1(x)\n",
    "        out = self.conv2(out)\n",
    "        out = out.view(out.size(0), -1)  # reshape\n",
    "        out = self.fc(out)\n",
    "        return out\n",
    "\n",
    "cnn = CNN()"
   ]
  },
  {
   "cell_type": "markdown",
   "metadata": {},
   "source": [
    "## Loss and Optimizer"
   ]
  },
  {
   "cell_type": "code",
   "execution_count": null,
   "metadata": {},
   "outputs": [],
   "source": [
    "# Hyper Parameters\n",
    "num_epochs = 1\n",
    "batch_size = 100\n",
    "learning_rate = 0.001\n",
    "\n",
    "loss_func = nn.CrossEntropyLoss()\n",
    "optimizer = torch.optim.Adam(cnn.parameters(), lr=learning_rate)"
   ]
  },
  {
   "cell_type": "markdown",
   "metadata": {},
   "source": [
    "# Train the model"
   ]
  },
  {
   "cell_type": "code",
   "execution_count": 7,
   "metadata": {},
   "outputs": [
    {
     "name": "stdout",
     "output_type": "stream",
     "text": [
      "<class 'torch.Tensor'> tensor([[[0.0026, 0.0027, 0.0024,  ..., 0.0023, 0.0024, 0.0023],\n",
      "         [0.0023, 0.0023, 0.0024,  ..., 0.0024, 0.0024, 0.0024],\n",
      "         [0.0023, 0.0024, 0.0024,  ..., 0.0024, 0.0023, 0.0023],\n",
      "         ...,\n",
      "         [0.0023, 0.0024, 0.0023,  ..., 0.0023, 0.0023, 0.0023],\n",
      "         [0.0023, 0.0023, 0.0023,  ..., 0.0023, 0.0023, 0.0024],\n",
      "         [0.0024, 0.0023, 0.0024,  ..., 0.0024, 0.0024, 0.0023]],\n",
      "\n",
      "        [[0.0024, 0.0023, 0.0023,  ..., 0.0023, 0.0024, 0.0024],\n",
      "         [0.0024, 0.0024, 0.0023,  ..., 0.0023, 0.0023, 0.0024],\n",
      "         [0.0023, 0.0023, 0.0024,  ..., 0.0024, 0.0024, 0.0024],\n",
      "         ...,\n",
      "         [0.0023, 0.0023, 0.0023,  ..., 0.0024, 0.0023, 0.0024],\n",
      "         [0.0024, 0.0024, 0.0023,  ..., 0.0023, 0.0023, 0.0023],\n",
      "         [0.0024, 0.0024, 0.0024,  ..., 0.0023, 0.0024, 0.0024]],\n",
      "\n",
      "        [[0.0024, 0.0023, 0.0023,  ..., 0.0024, 0.0024, 0.0024],\n",
      "         [0.0023, 0.0022, 0.0023,  ..., 0.0024, 0.0023, 0.0023],\n",
      "         [0.0023, 0.0023, 0.0023,  ..., 0.0023, 0.0023, 0.0023],\n",
      "         ...,\n",
      "         [0.0023, 0.0023, 0.0024,  ..., 0.0023, 0.0023, 0.0023],\n",
      "         [0.0023, 0.0023, 0.0023,  ..., 0.0024, 0.0024, 0.0024],\n",
      "         [0.0024, 0.0023, 0.0023,  ..., 0.0023, 0.0023, 0.0024]],\n",
      "\n",
      "        ...,\n",
      "\n",
      "        [[0.0025, 0.0024, 0.0023,  ..., 0.0024, 0.0023, 0.0023],\n",
      "         [0.0024, 0.0023, 0.0023,  ..., 0.0024, 0.0023, 0.0023],\n",
      "         [0.0023, 0.0023, 0.0023,  ..., 0.0023, 0.0023, 0.0023],\n",
      "         ...,\n",
      "         [0.0024, 0.0023, 0.0023,  ..., 0.0023, 0.0024, 0.0023],\n",
      "         [0.0023, 0.0024, 0.0024,  ..., 0.0024, 0.0023, 0.0023],\n",
      "         [0.0023, 0.0024, 0.0024,  ..., 0.0024, 0.0023, 0.0023]],\n",
      "\n",
      "        [[0.0023, 0.0024, 0.0024,  ..., 0.0024, 0.0024, 0.0023],\n",
      "         [0.0023, 0.0023, 0.0023,  ..., 0.0023, 0.0023, 0.0024],\n",
      "         [0.0024, 0.0023, 0.0023,  ..., 0.0023, 0.0023, 0.0023],\n",
      "         ...,\n",
      "         [0.0024, 0.0024, 0.0023,  ..., 0.0024, 0.0024, 0.0024],\n",
      "         [0.0023, 0.0023, 0.0023,  ..., 0.0023, 0.0023, 0.0024],\n",
      "         [0.0024, 0.0024, 0.0024,  ..., 0.0023, 0.0024, 0.0024]],\n",
      "\n",
      "        [[0.0024, 0.0024, 0.0023,  ..., 0.0023, 0.0024, 0.0024],\n",
      "         [0.0023, 0.0024, 0.0024,  ..., 0.0023, 0.0023, 0.0023],\n",
      "         [0.0024, 0.0024, 0.0024,  ..., 0.0024, 0.0023, 0.0023],\n",
      "         ...,\n",
      "         [0.0024, 0.0023, 0.0023,  ..., 0.0023, 0.0024, 0.0024],\n",
      "         [0.0024, 0.0024, 0.0024,  ..., 0.0024, 0.0024, 0.0023],\n",
      "         [0.0023, 0.0023, 0.0023,  ..., 0.0023, 0.0023, 0.0024]]],\n",
      "       dtype=torch.float64)\n",
      "<class 'torch.Tensor'> tensor([[1],\n",
      "        [1],\n",
      "        [1],\n",
      "        [1],\n",
      "        [1],\n",
      "        [1],\n",
      "        [1],\n",
      "        [1],\n",
      "        [1],\n",
      "        [1],\n",
      "        [1],\n",
      "        [1],\n",
      "        [1],\n",
      "        [1],\n",
      "        [1],\n",
      "        [1],\n",
      "        [1],\n",
      "        [1],\n",
      "        [1],\n",
      "        [1],\n",
      "        [1],\n",
      "        [1],\n",
      "        [1],\n",
      "        [1],\n",
      "        [1],\n",
      "        [1],\n",
      "        [1],\n",
      "        [1],\n",
      "        [1],\n",
      "        [1],\n",
      "        [1],\n",
      "        [1]])\n",
      "[ OK ] at this step\n"
     ]
    },
    {
     "ename": "NameError",
     "evalue": "name 'optimizer' is not defined",
     "output_type": "error",
     "traceback": [
      "\u001b[0;31m---------------------------------------------------------------------------\u001b[0m",
      "\u001b[0;31mNameError\u001b[0m                                 Traceback (most recent call last)",
      "Input \u001b[0;32mIn [7]\u001b[0m, in \u001b[0;36m<cell line: 1>\u001b[0;34m()\u001b[0m\n\u001b[1;32m      7\u001b[0m \u001b[38;5;28mprint\u001b[39m(\u001b[38;5;124m\"\u001b[39m\u001b[38;5;124m[ OK ] at this step\u001b[39m\u001b[38;5;124m\"\u001b[39m)\n\u001b[1;32m      9\u001b[0m \u001b[38;5;66;03m# Forward + Backward + Optimize \u001b[39;00m\n\u001b[0;32m---> 10\u001b[0m \u001b[43moptimizer\u001b[49m\u001b[38;5;241m.\u001b[39mzero_grad()\n\u001b[1;32m     11\u001b[0m outputs \u001b[38;5;241m=\u001b[39m cnn(images)\n\u001b[1;32m     12\u001b[0m loss \u001b[38;5;241m=\u001b[39m loss_func(outputs, labels)\n",
      "\u001b[0;31mNameError\u001b[0m: name 'optimizer' is not defined"
     ]
    }
   ],
   "source": [
    "for epoch in range(num_epochs):\n",
    "    for i, (images, labels) in enumerate(train_loader):\n",
    "        images = Variable(images)\n",
    "        labels = Variable(labels)\n",
    "        print(type(images), images)\n",
    "        print(type(labels), labels)\n",
    "        print(\"[ OK ] at this step\") #TODO: @Chen apdat the CNN to fit your \"image\" size (8x16) as you said this afternoon\n",
    "\n",
    "        # Forward + Backward + Optimize \n",
    "        optimizer.zero_grad()\n",
    "        outputs = cnn(images)\n",
    "        loss = loss_func(outputs, labels)\n",
    "        loss.backward()\n",
    "        optimizer.step()\n",
    "\n",
    "        if (i + 1) % 100 == 0:\n",
    "            print('Epoch [%d/%d], Iter [%d/%d] Loss: %.4f'\n",
    "                  % (epoch + 1, num_epochs, i + 1, len(train_dataset) // batch_size, loss.item()))"
   ]
  },
  {
   "cell_type": "markdown",
   "metadata": {},
   "source": [
    "# Test the model"
   ]
  },
  {
   "cell_type": "code",
   "execution_count": 21,
   "metadata": {},
   "outputs": [
    {
     "name": "stdout",
     "output_type": "stream",
     "text": [
      " Test Accuracy: 98 %\n"
     ]
    }
   ],
   "source": [
    "cnn.eval()  # Change to test form, application scenarios such as: dropout\n",
    "correct = 0\n",
    "total = 0\n",
    "for images, labels in test_loader:\n",
    "    images = Variable(images)\n",
    "    labels = Variable(labels)\n",
    "\n",
    "    outputs = cnn(images)\n",
    "    _, predicted = torch.max(outputs.data, 1)\n",
    "    total += labels.size(0)\n",
    "    correct += (predicted == labels.data).sum()\n",
    "\n",
    "print(' Test Accuracy: %d %%' % (100 * correct / total))\n",
    "\n",
    "# Save the Trained Model\n",
    "torch.save(cnn.state_dict(), 'cnn.pkl')"
   ]
  }
 ],
 "metadata": {
  "interpreter": {
   "hash": "3067ead486e059ec00ffe7555bdb889e6e264a24dc711bf108106cc7baee8d5d"
  },
  "kernelspec": {
   "display_name": "Python 3.8.8 64-bit ('base': conda)",
   "language": "python",
   "name": "python3"
  },
  "language_info": {
   "codemirror_mode": {
    "name": "ipython",
    "version": 3
   },
   "file_extension": ".py",
   "mimetype": "text/x-python",
   "name": "python",
   "nbconvert_exporter": "python",
   "pygments_lexer": "ipython3",
   "version": "3.8.12"
  },
  "orig_nbformat": 4
 },
 "nbformat": 4,
 "nbformat_minor": 2
}
