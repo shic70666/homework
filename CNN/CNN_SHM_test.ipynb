{
 "cells": [
  {
   "cell_type": "code",
   "execution_count": 1,
   "metadata": {},
   "outputs": [],
   "source": [
    "import torch\n",
    "import torch.nn as nn\n",
    "from torch.utils.data import Dataset, DataLoader\n",
    "from torch.autograd import Variable\n",
    "from torchvision import transforms\n",
    "from pathlib import Path\n",
    "from matplotlib import pyplot as plt\n",
    "import pandas as pd\n",
    "import numpy as np\n",
    "import os"
   ]
  },
  {
   "cell_type": "markdown",
   "metadata": {},
   "source": [
    "# Pre-processing"
   ]
  },
  {
   "cell_type": "code",
   "execution_count": 2,
   "metadata": {},
   "outputs": [],
   "source": [
    "class SHM_Dataset(Dataset):\n",
    "    \"\"\" Prepare dataset for pytorch\n",
    "        Ref: https://pytorch.org/tutorials/beginner/basics/data_tutorial.html\n",
    "    \"\"\"\n",
    "\n",
    "    def __init__(self, case, data_file,transform = transforms.Compose([transforms.ToTensor(), transforms.Normalize((0.5,), (0.5,))])): \n",
    "        self.case = case\n",
    "        self.data_file = Path(data_file)\n",
    "        self.data_df = pd.read_json(self.data_file, dtype=np.array)\n",
    "        # self.data = self.data_df.cat()\n",
    "        self.data = self.data_df.stack()\n",
    "        self.labels = pd.DataFrame([self.case,]*self.data_df.shape[0]*self.data_df.shape[1])\n",
    "        self.transform = transform\n",
    "    \n",
    "    def __len__(self):\n",
    "        return self.labels.shape[0]\n",
    "\n",
    "    def __getitem__(self, index):\n",
    "        label = np.array(self.labels.iloc[index])\n",
    "        feature = np.array(self.data.iloc[index])\n",
    "        feature = self.transform(feature)\n",
    "        # print(f\"feature: {feature.shape}, label: {label.shape}\")\n",
    "        return feature, label\n",
    "\n",
    "\n",
    "# shmDS = SHM_Dataset(1, \"~/Codes/homework/data/SHM/shm01s.json\")\n",
    "# print(\"There is\", len(shmDS), \"samples in the given dataset\")"
   ]
  },
  {
   "cell_type": "code",
   "execution_count": 3,
   "metadata": {},
   "outputs": [],
   "source": [
    "\n",
    "shmDS_1 = SHM_Dataset(1, \"~/Codes/homework/data/SHM/shm01s.json\")\n",
    "shmDS_2 = SHM_Dataset(2, \"~/Codes/homework/data/SHM/shm02s.json\")\n",
    "shmDS_3 = SHM_Dataset(3, \"~/Codes/homework/data/SHM/shm03s.json\")\n",
    "shmDS_4 = SHM_Dataset(4, \"~/Codes/homework/data/SHM/shm04s.json\")\n",
    "shmDS_5 = SHM_Dataset(5, \"~/Codes/homework/data/SHM/shm05s.json\")\n",
    "shmDS_6 = SHM_Dataset(6, \"~/Codes/homework/data/SHM/shm06s.json\")\n",
    "shmDS_7 = SHM_Dataset(7, \"~/Codes/homework/data/SHM/shm07s.json\")\n",
    "shmDS_8 = SHM_Dataset(8, \"~/Codes/homework/data/SHM/shm08s.json\")\n",
    "shmDS_9 = SHM_Dataset(9, \"~/Codes/homework/data/SHM/shm09s.json\")\n",
    "shmDS = shmDS_1 + shmDS_2 + shmDS_3 + shmDS_4 + shmDS_5 + shmDS_6 + shmDS_7 + shmDS_8 + shmDS_9"
   ]
  },
  {
   "cell_type": "code",
   "execution_count": 4,
   "metadata": {},
   "outputs": [
    {
     "name": "stdout",
     "output_type": "stream",
     "text": [
      "There is 3744 samples in the given dataset\n"
     ]
    }
   ],
   "source": [
    "print(\"There is\", len(shmDS_6), \"samples in the given dataset\")\n",
    "# print(shmDS_6.__getitem__(11))"
   ]
  },
  {
   "cell_type": "markdown",
   "metadata": {},
   "source": [
    "Let's have a look on a single sample:"
   ]
  },
  {
   "cell_type": "code",
   "execution_count": 5,
   "metadata": {},
   "outputs": [
    {
     "name": "stdout",
     "output_type": "stream",
     "text": [
      "Feature batch shape: torch.Size([4, 1, 16, 16])\n",
      "Labels batch shape: torch.Size([4, 1])\n"
     ]
    },
    {
     "data": {
      "image/png": "[encoded data removed]",
      "text/plain": [
       "<Figure size 432x288 with 1 Axes>"
      ]
     },
     "metadata": {
      "needs_background": "light"
     },
     "output_type": "display_data"
    }
   ],
   "source": [
    "train_loader = DataLoader(shmDS, batch_size=4, shuffle=True) # split samples into mini-batches and reshuffle the data to reduce overfitting\n",
    "test_loader = DataLoader(shmDS, batch_size=4, shuffle=False)\n",
    "\n",
    "train_features, train_labels = next(iter(train_loader))\n",
    "# train_features = train_features.unsqueeze(dim=1)\n",
    "print(f\"Feature batch shape: {train_features.size()}\")\n",
    "print(f\"Labels batch shape: {train_labels.size()}\")\n",
    "\n",
    "img = train_features[0].squeeze()\n",
    "label = train_labels[0]\n",
    "fig, axis = plt.subplots()\n",
    "axis.imshow(img, cmap=\"gray\")\n",
    "\n",
    "axis.set(title=f\"Label: {label}\", xticks=range(16), yticks=range(8))\n",
    "plt.show()\n"
   ]
  },
  {
   "cell_type": "markdown",
   "metadata": {},
   "source": [
    "# Build the neural network\n",
    "\n",
    "## CNN Model"
   ]
  },
  {
   "cell_type": "code",
   "execution_count": 6,
   "metadata": {},
   "outputs": [],
   "source": [
    "# Two-layer convolution\n",
    "class CNN(nn.Module):\n",
    "    def __init__(self):\n",
    "        super(CNN, self).__init__()\n",
    "        # Quick build with sequence tools\n",
    "        self.conv1 = nn.Sequential(\n",
    "            nn.Conv2d(1, 4, kernel_size=3, padding=1),\n",
    "            nn.BatchNorm2d(4),\n",
    "            nn.ReLU(),\n",
    "            nn.MaxPool2d(2))\n",
    "        self.conv2 = nn.Sequential(\n",
    "            nn.Conv2d(4, 8, kernel_size=3, padding=1),\n",
    "            nn.BatchNorm2d(8),\n",
    "            nn.ReLU(),\n",
    "            nn.MaxPool2d(2))\n",
    "        self.conv3 = nn.Sequential(\n",
    "            nn.Conv2d(8, 16, kernel_size=3, padding=1),\n",
    "            nn.BatchNorm2d(16),\n",
    "            nn.ReLU(),\n",
    "            nn.MaxPool2d(2))\n",
    "        self.conv4 = nn.Sequential(\n",
    "            nn.Conv2d(16, 32, kernel_size=3, padding=1),\n",
    "            nn.BatchNorm2d(32),\n",
    "            nn.ReLU(),\n",
    "            nn.MaxPool2d(2))\n",
    "        self.fc = nn.Linear(32 * 1 * 1, 10)\n",
    "\n",
    "    def forward(self, x):\n",
    "        x = self.conv1(x)\n",
    "        x = self.conv2(x)\n",
    "        x = self.conv3(x)\n",
    "        x = self.conv4(x)\n",
    "        # print(x.shape)\n",
    "        x = x.view(-1, 32 * 1 * 1) \n",
    "        # print(x.shape)\n",
    "        x = self.fc(x)\n",
    "        return x\n",
    "\n",
    "cnn = CNN()"
   ]
  },
  {
   "cell_type": "markdown",
   "metadata": {},
   "source": [
    "## Loss and Optimizer"
   ]
  },
  {
   "cell_type": "code",
   "execution_count": 7,
   "metadata": {},
   "outputs": [],
   "source": [
    "# Hyper Parameters\n",
    "num_epochs = 1\n",
    "batch_size = 4\n",
    "learning_rate = 0.001\n",
    "\n",
    "loss_func = nn.CrossEntropyLoss()\n",
    "optimizer = torch.optim.Adam(cnn.parameters(), lr=learning_rate)"
   ]
  },
  {
   "cell_type": "markdown",
   "metadata": {},
   "source": [
    "# Train the model"
   ]
  },
  {
   "cell_type": "code",
   "execution_count": 8,
   "metadata": {},
   "outputs": [
    {
     "name": "stdout",
     "output_type": "stream",
     "text": [
      "Epoch [1/1], Iter [100/6168] Loss: 0.0185\n",
      "Epoch [1/1], Iter [200/6168] Loss: 0.0070\n",
      "Epoch [1/1], Iter [300/6168] Loss: 0.0037\n",
      "Epoch [1/1], Iter [400/6168] Loss: 0.0024\n",
      "Epoch [1/1], Iter [500/6168] Loss: 0.0017\n",
      "Epoch [1/1], Iter [600/6168] Loss: 0.0012\n",
      "Epoch [1/1], Iter [700/6168] Loss: 0.0010\n",
      "Epoch [1/1], Iter [800/6168] Loss: 0.0008\n",
      "Epoch [1/1], Iter [900/6168] Loss: 0.0006\n",
      "Epoch [1/1], Iter [1000/6168] Loss: 0.0005\n",
      "Epoch [1/1], Iter [1100/6168] Loss: 0.0006\n",
      "Epoch [1/1], Iter [1200/6168] Loss: 0.0004\n",
      "Epoch [1/1], Iter [1300/6168] Loss: 0.0003\n",
      "Epoch [1/1], Iter [1400/6168] Loss: 0.0005\n",
      "Epoch [1/1], Iter [1500/6168] Loss: 0.0002\n",
      "Epoch [1/1], Iter [1600/6168] Loss: 0.0003\n",
      "Epoch [1/1], Iter [1700/6168] Loss: 0.0003\n",
      "Epoch [1/1], Iter [1800/6168] Loss: 0.0002\n",
      "Epoch [1/1], Iter [1900/6168] Loss: 0.0002\n",
      "Epoch [1/1], Iter [2000/6168] Loss: 0.0001\n",
      "Epoch [1/1], Iter [2100/6168] Loss: 0.0001\n",
      "Epoch [1/1], Iter [2200/6168] Loss: 0.0004\n",
      "Epoch [1/1], Iter [2300/6168] Loss: 0.0001\n",
      "Epoch [1/1], Iter [2400/6168] Loss: 0.0001\n",
      "Epoch [1/1], Iter [2500/6168] Loss: 0.0001\n",
      "Epoch [1/1], Iter [2600/6168] Loss: 0.0001\n",
      "Epoch [1/1], Iter [2700/6168] Loss: 0.0001\n",
      "Epoch [1/1], Iter [2800/6168] Loss: 0.0001\n",
      "Epoch [1/1], Iter [2900/6168] Loss: 0.0001\n",
      "Epoch [1/1], Iter [3000/6168] Loss: 0.0001\n",
      "Epoch [1/1], Iter [3100/6168] Loss: 0.0001\n",
      "Epoch [1/1], Iter [3200/6168] Loss: 0.0001\n",
      "Epoch [1/1], Iter [3300/6168] Loss: 0.0000\n",
      "Epoch [1/1], Iter [3400/6168] Loss: 0.0000\n",
      "Epoch [1/1], Iter [3500/6168] Loss: 0.0000\n",
      "Epoch [1/1], Iter [3600/6168] Loss: 0.0001\n",
      "Epoch [1/1], Iter [3700/6168] Loss: 0.0000\n",
      "Epoch [1/1], Iter [3800/6168] Loss: 0.0000\n",
      "Epoch [1/1], Iter [3900/6168] Loss: 0.0000\n",
      "Epoch [1/1], Iter [4000/6168] Loss: 0.0000\n",
      "Epoch [1/1], Iter [4100/6168] Loss: 0.0000\n",
      "Epoch [1/1], Iter [4200/6168] Loss: 0.0001\n",
      "Epoch [1/1], Iter [4300/6168] Loss: 0.0000\n",
      "Epoch [1/1], Iter [4400/6168] Loss: 0.0000\n",
      "Epoch [1/1], Iter [4500/6168] Loss: 0.0000\n",
      "Epoch [1/1], Iter [4600/6168] Loss: 0.0000\n",
      "Epoch [1/1], Iter [4700/6168] Loss: 0.0000\n",
      "Epoch [1/1], Iter [4800/6168] Loss: 0.0000\n",
      "Epoch [1/1], Iter [4900/6168] Loss: 0.0000\n",
      "Epoch [1/1], Iter [5000/6168] Loss: 0.0000\n",
      "Epoch [1/1], Iter [5100/6168] Loss: 0.0000\n",
      "Epoch [1/1], Iter [5200/6168] Loss: 0.0000\n",
      "Epoch [1/1], Iter [5300/6168] Loss: 0.0000\n",
      "Epoch [1/1], Iter [5400/6168] Loss: 0.0000\n",
      "Epoch [1/1], Iter [5500/6168] Loss: 0.0000\n",
      "Epoch [1/1], Iter [5600/6168] Loss: 0.0000\n",
      "Epoch [1/1], Iter [5700/6168] Loss: 0.0000\n",
      "Epoch [1/1], Iter [5800/6168] Loss: 0.0000\n",
      "Epoch [1/1], Iter [5900/6168] Loss: 0.0000\n",
      "Epoch [1/1], Iter [6000/6168] Loss: 0.0000\n",
      "Epoch [1/1], Iter [6100/6168] Loss: 0.0000\n"
     ]
    }
   ],
   "source": [
    "for epoch in range(num_epochs):\n",
    "    for i, (train_features, train_labels) in enumerate(train_loader):\n",
    "        train_features = Variable(train_features)\n",
    "        # images = images.unsqueeze(dim=1)\n",
    "        train_features = train_features.float()\n",
    "        train_labels = Variable(train_labels)\n",
    "        # print(type(images), images)\n",
    "        # print(type(labels), labels)\n",
    "        # print(\"[ OK ] at this step\") \n",
    "\n",
    "        # Forward + Backward + Optimize\n",
    "        optimizer.zero_grad()\n",
    "        outputs = cnn(train_features)\n",
    "        # loss = loss_func(outputs, labels)\n",
    "        loss = loss_func(outputs, torch.max(train_labels, 1)[1])\n",
    "        loss.backward()\n",
    "        optimizer.step()\n",
    "\n",
    "        if (i + 1) % 100 == 0:\n",
    "            print('Epoch [%d/%d], Iter [%d/%d] Loss: %.4f'\n",
    "                  % (epoch + 1, num_epochs, i + 1, len(shmDS) // batch_size, loss.item()))"
   ]
  },
  {
   "cell_type": "markdown",
   "metadata": {},
   "source": [
    "# Test the model"
   ]
  },
  {
   "cell_type": "code",
   "execution_count": 10,
   "metadata": {},
   "outputs": [
    {
     "name": "stdout",
     "output_type": "stream",
     "text": [
      " Test Accuracy: 66 %\n"
     ]
    }
   ],
   "source": [
    "cnn.eval()  # Change to test form, application scenarios such as: dropout\n",
    "correct = 0\n",
    "total = 0\n",
    "for test_features, test_labels in test_loader:\n",
    "    test_features = Variable(test_features)\n",
    "    # images = images.unsqueeze(dim=1)\n",
    "    test_features = test_features.float()\n",
    "    test_labels = Variable(test_labels)\n",
    "    # print(x.shape)\n",
    "\n",
    "\n",
    "    outputs = cnn(test_features)\n",
    "    # print(outputs.type)\n",
    "    _, predicted = torch.max(outputs.data, 0)\n",
    "    # print(outputs.data)\n",
    "    # print(predicted)\n",
    "    predicted = predicted +1\n",
    "    total += test_labels.size(0)\n",
    "    # print('ok for this step', total)\n",
    "    # print(test_labels.data)\n",
    "    correct += (predicted == test_labels.data).sum()\n",
    "    \n",
    "    # print('okkkkkkkkkkkkkk for this step', correct)\n",
    "\n",
    "print(' Test Accuracy: %d %%' % (100 * correct / total))\n",
    "\n",
    "# Save the Trained Model\n",
    "# torch.save(cnn.state_dict(), 'cnn.pkl')"
   ]
  }
 ],
 "metadata": {
  "interpreter": {
   "hash": "3067ead486e059ec00ffe7555bdb889e6e264a24dc711bf108106cc7baee8d5d"
  },
  "kernelspec": {
   "display_name": "Python 3.8.8 64-bit ('base': conda)",
   "language": "python",
   "name": "python3"
  },
  "language_info": {
   "codemirror_mode": {
    "name": "ipython",
    "version": 3
   },
   "file_extension": ".py",
   "mimetype": "text/x-python",
   "name": "python",
   "nbconvert_exporter": "python",
   "pygments_lexer": "ipython3",
   "version": "3.8.12"
  },
  "orig_nbformat": 4
 },
 "nbformat": 4,
 "nbformat_minor": 2
}
