{
 "cells": [
  {
   "cell_type": "code",
   "execution_count": 1,
   "metadata": {},
   "outputs": [
    {
     "data": {
      "text/plain": [
       "<torch._C.Generator at 0x7fce3a2c71f0>"
      ]
     },
     "execution_count": 1,
     "metadata": {},
     "output_type": "execute_result"
    }
   ],
   "source": [
    "import torch\n",
    "import torch.nn as nn\n",
    "from torch.utils.data import Dataset, DataLoader\n",
    "from torch.autograd import Variable\n",
    "from torchvision import transforms\n",
    "from pathlib import Path\n",
    "from matplotlib import pyplot as plt\n",
    "import pandas as pd\n",
    "import numpy as np\n",
    "import os\n",
    "\n",
    "torch.manual_seed(1)"
   ]
  },
  {
   "cell_type": "markdown",
   "metadata": {},
   "source": [
    "# Hyperparameters"
   ]
  },
  {
   "cell_type": "code",
   "execution_count": 2,
   "metadata": {},
   "outputs": [],
   "source": [
    "#! Hyper Parameters\n",
    "num_epochs = 2\n",
    "batch_size = 32\n",
    "learning_rate = 0.1"
   ]
  },
  {
   "cell_type": "markdown",
   "metadata": {},
   "source": [
    "# Pre-processing"
   ]
  },
  {
   "cell_type": "code",
   "execution_count": 7,
   "metadata": {},
   "outputs": [],
   "source": [
    "class SHM_Dataset(Dataset):\n",
    "    \"\"\" Prepare dataset for pytorch\n",
    "        Ref: https://pytorch.org/tutorials/beginner/basics/data_tutorial.html\n",
    "    \"\"\"\n",
    "\n",
    "    def __init__(self, case, data_file, transform): \n",
    "        self.case = case\n",
    "        self.data_file = Path(data_file)\n",
    "        self.data_df = pd.read_json(self.data_file, dtype=np.array)\n",
    "        # self.data = self.data_df.cat()\n",
    "        self.data = self.data_df.stack()\n",
    "        self.labels = pd.DataFrame([self.case,]*self.data_df.shape[0]*self.data_df.shape[1])\n",
    "        self.transform = transform\n",
    "    \n",
    "    def __len__(self):\n",
    "        return self.labels.shape[0]\n",
    "\n",
    "    def __getitem__(self, index):\n",
    "        label = int(self.labels.iloc[index])\n",
    "        feature = np.array(self.data.iloc[index])\n",
    "\n",
    "        # trans1 = transforms.ToTensor()\n",
    "        # feature_tr1 = trans1(feature)\n",
    "        # mean, std = feature_tr1.mean(), feature_tr1.std()\n",
    "        mean, std = feature.mean(), feature.std()\n",
    "\n",
    "        trans2 = transforms.Compose([transforms.ToTensor(), transforms.Normalize(mean, std)])\n",
    "        feature_tr2 = trans2(feature)\n",
    "        # print(f\"feature: {feature.shape}, label: {label.shape}\")\n",
    "        return feature_tr2, label\n",
    "\n",
    "\n",
    "# shmDS = SHM_Dataset(1, \"~/Codes/homework/data/SHM/shm01s.json\")\n",
    "# print(\"There is\", len(shmDS), \"samples in the given dataset\")"
   ]
  },
  {
   "cell_type": "markdown",
   "metadata": {},
   "source": [
    "The target span needs to be 0 to N-1 [Ref: IndexError: Target is out of bounds](https://pytorch.org/docs/master/generated/torch.nn.CrossEntropyLoss.html)"
   ]
  },
  {
   "cell_type": "code",
   "execution_count": 8,
   "metadata": {},
   "outputs": [],
   "source": [
    "trans = transforms.Compose([transforms.ToTensor(), transforms.Normalize((0.5,), (0.5,))])\n",
    "# trans = transforms.ToTensor()\n",
    "\n",
    "shmDS_1 = SHM_Dataset(0, \"~/Codes/homework/data/SHM/shm01s.json\", trans) # Case 1\n",
    "shmDS_2 = SHM_Dataset(1, \"~/Codes/homework/data/SHM/shm02s.json\", trans)\n",
    "shmDS_3 = SHM_Dataset(2, \"~/Codes/homework/data/SHM/shm03s.json\", trans)\n",
    "shmDS_4 = SHM_Dataset(3, \"~/Codes/homework/data/SHM/shm04s.json\", trans)\n",
    "shmDS_5 = SHM_Dataset(4, \"~/Codes/homework/data/SHM/shm05s.json\", trans)\n",
    "shmDS_6 = SHM_Dataset(5, \"~/Codes/homework/data/SHM/shm06s.json\", trans)\n",
    "shmDS_7 = SHM_Dataset(6, \"~/Codes/homework/data/SHM/shm07s.json\", trans)\n",
    "shmDS_8 = SHM_Dataset(7, \"~/Codes/homework/data/SHM/shm08s.json\", trans)\n",
    "shmDS_9 = SHM_Dataset(8, \"~/Codes/homework/data/SHM/shm09s.json\", trans)\n",
    "shmDS = shmDS_1 + shmDS_2 + shmDS_3 + shmDS_4 + shmDS_5 + shmDS_6 + shmDS_7 + shmDS_8 + shmDS_9"
   ]
  },
  {
   "cell_type": "code",
   "execution_count": null,
   "metadata": {},
   "outputs": [],
   "source": [
    "print(\"There is\", len(shmDS), \"samples in the given dataset\")"
   ]
  },
  {
   "cell_type": "markdown",
   "metadata": {},
   "source": [
    "Let's have a look on a single sample:"
   ]
  },
  {
   "cell_type": "code",
   "execution_count": 9,
   "metadata": {},
   "outputs": [
    {
     "name": "stdout",
     "output_type": "stream",
     "text": [
      "Feature batch shape: torch.Size([32, 1, 16, 16])\n",
      "Labels batch shape: torch.Size([32])\n"
     ]
    },
    {
     "data": {
      "image/png": "[encoded data removed]",
      "text/plain": [
       "<Figure size 432x288 with 1 Axes>"
      ]
     },
     "metadata": {
      "needs_background": "light"
     },
     "output_type": "display_data"
    },
    {
     "name": "stdout",
     "output_type": "stream",
     "text": [
      "Input features: torch.Size([16, 16])\n",
      "\ttensor([[ 6.7114e-01, -2.0169e-01, -8.5230e-01, -1.5905e+00, -1.7916e+00,\n",
      "         -7.9202e-01, -9.4026e-01, -5.7980e-01,  1.6127e+00,  2.0439e+00,\n",
      "          8.1492e-01,  8.0955e-01,  1.1132e+00, -3.3825e-01, -1.1252e+00,\n",
      "         -9.8640e-01],\n",
      "        [-7.8546e-01, -3.0278e-02,  4.4216e-01, -1.9759e-01, -1.6787e-01,\n",
      "          1.4155e-01,  2.3587e-01,  3.0108e-01, -3.9506e-01, -1.9205e-02,\n",
      "          1.1261e+00,  6.1887e-01, -2.4312e-01,  3.6574e-02,  3.2527e-01,\n",
      "         -3.2656e-01],\n",
      "        [-8.5537e-01, -1.0737e+00, -1.2105e+00, -3.9526e-01, -7.8465e-02,\n",
      "         -1.6765e-01,  9.8880e-01,  1.9847e+00,  1.5541e+00,  6.6334e-01,\n",
      "          1.2002e-01, -4.6149e-01, -1.2113e+00, -1.3516e+00, -7.1165e-01,\n",
      "         -3.7619e-01],\n",
      "        [ 2.3033e-01,  7.0836e-01,  2.5084e-01, -2.8187e-01,  3.3840e-01,\n",
      "          7.4195e-01, -2.7817e-01, -2.4434e-01,  1.0103e+00,  4.2671e-01,\n",
      "         -6.9708e-01, -2.4250e-01,  1.1551e-01, -3.2041e-01, -2.2629e-01,\n",
      "         -9.8722e-01],\n",
      "        [-1.2165e+00,  2.1476e-01,  7.0970e-01,  3.3430e-01,  5.8258e-01,\n",
      "          1.4855e+00,  1.4375e+00,  3.3224e-01, -3.5876e-01, -7.9345e-01,\n",
      "         -1.4231e+00, -1.5673e+00, -9.1955e-01, -4.3393e-02,  3.5495e-01,\n",
      "          9.1637e-01],\n",
      "        [ 8.7028e-01, -9.5679e-02,  4.1018e-01,  1.3125e+00, -1.3915e-01,\n",
      "         -1.2148e+00,  3.0420e-02,  3.2466e-01, -3.0852e-01,  1.9445e-01,\n",
      "         -2.0722e-01, -7.9181e-01,  4.1367e-01, -1.3977e-01, -1.8691e+00,\n",
      "          6.4041e-02],\n",
      "        [ 1.2746e+00,  4.9282e-01,  1.1589e+00,  1.7105e+00,  7.2260e-01,\n",
      "          9.3160e-02, -6.4151e-01, -2.1789e+00, -2.0051e+00, -7.0693e-01,\n",
      "         -5.7098e-01, -2.0662e-01,  1.2598e+00,  1.4599e+00,  7.1736e-01,\n",
      "          5.5678e-01],\n",
      "        [ 4.7965e-01,  2.9349e-01,  8.5984e-02, -7.3440e-01, -1.3682e+00,\n",
      "         -9.3186e-01, -2.6669e-01, -1.9608e-02,  6.1215e-01,  6.8511e-01,\n",
      "          6.9277e-01,  6.5689e-01, -9.4683e-01, -1.4080e+00,  5.5719e-01,\n",
      "          7.3215e-01],\n",
      "        [ 1.3479e-01,  1.1740e+00,  1.2386e+00, -3.0052e-01, -1.0742e+00,\n",
      "         -1.3491e+00, -1.5695e+00, -4.9040e-01,  1.5714e-01, -2.9027e-01,\n",
      "          8.7006e-02,  1.2477e+00,  1.4637e+00,  9.1167e-01,  1.0438e+00,\n",
      "          8.6209e-01],\n",
      "        [-7.8278e-01, -1.6282e+00, -1.7129e+00, -1.9946e+00, -3.2698e-01,\n",
      "          1.2273e+00,  8.7620e-01,  4.4404e-01,  9.5830e-01,  9.9243e-01,\n",
      "         -8.4606e-02, -6.0194e-01,  3.6359e-02,  2.5146e-01,  2.3218e-03,\n",
      "          2.0225e-01],\n",
      "        [-4.7505e-02, -7.3973e-01, -4.6599e-01, -4.1555e-01, -9.0930e-01,\n",
      "         -2.4086e-01,  1.5652e-02,  2.1290e-01,  7.0218e-01,  1.0825e+00,\n",
      "          1.5819e+00,  1.3915e+00,  2.0570e-02, -4.4529e-01, -7.0262e-01,\n",
      "         -2.0344e+00],\n",
      "        [-2.0422e+00, -1.0438e+00, -5.6073e-01,  9.6972e-01,  1.6446e+00,\n",
      "          6.9210e-01,  1.1565e+00,  1.3544e+00, -3.3557e-02, -3.8173e-01,\n",
      "         -1.3051e-02, -8.6029e-01, -1.2899e+00, -6.7699e-01, -4.9470e-01,\n",
      "         -6.1076e-01],\n",
      "        [ 4.0830e-01,  7.1951e-01, -8.6259e-02,  2.6519e-01,  6.3284e-01,\n",
      "         -1.6330e-02,  3.2589e-01,  9.9418e-01,  1.2162e+00,  1.3320e+00,\n",
      "          1.8111e-02, -1.7590e+00, -1.8843e+00, -2.0785e+00, -2.0565e+00,\n",
      "          2.8364e-02],\n",
      "        [ 5.4133e-01,  9.6690e-01,  2.4073e+00,  1.7167e+00,  4.4915e-01,\n",
      "          1.2348e+00,  4.8852e-01, -1.3729e+00, -1.2411e+00, -1.6212e+00,\n",
      "         -2.2159e+00, -1.3698e+00, -6.4110e-01,  6.3638e-02,  1.6372e+00,\n",
      "          2.3834e+00],\n",
      "        [ 1.4648e+00,  2.0471e-01,  2.0778e-01, -3.1733e-01, -8.6029e-01,\n",
      "         -5.1805e-02,  2.7648e-01, -3.3252e-01, -2.4208e-01, -7.0959e-01,\n",
      "         -1.9042e+00, -1.1480e+00, -1.8200e-01,  3.5294e-01,  1.1343e+00,\n",
      "          1.5229e+00],\n",
      "        [ 1.2902e+00,  1.7085e+00,  1.4473e+00, -5.9599e-02, -1.2199e+00,\n",
      "         -1.3815e+00, -1.7846e+00, -2.2946e+00, -1.9202e+00, -1.8242e-01,\n",
      "          6.0355e-01,  9.5830e-01,  2.0668e+00,  1.6255e+00,  1.1080e+00,\n",
      "          1.1627e+00]], dtype=torch.float64)\n",
      "Label: torch.Size([])\n",
      "\t3\n"
     ]
    }
   ],
   "source": [
    "train_loader = DataLoader(shmDS, batch_size=batch_size, shuffle=True) # split samples into mini-batches and reshuffle the data to reduce overfitting\n",
    "test_loader = DataLoader(shmDS, batch_size=batch_size, shuffle=False)\n",
    "\n",
    "train_features, train_labels = next(iter(train_loader))\n",
    "# train_features = train_features.unsqueeze(dim=1)\n",
    "print(f\"Feature batch shape: {train_features.size()}\")\n",
    "print(f\"Labels batch shape: {train_labels.size()}\")\n",
    "\n",
    "img = train_features[0].squeeze()\n",
    "label = train_labels[0]\n",
    "fig, axis = plt.subplots()\n",
    "axis.imshow(img, cmap=\"gray\")\n",
    "\n",
    "axis.set(title=f\"Label: {label}\", xticks=range(16), yticks=range(16))\n",
    "plt.show()\n",
    "print(f\"Input features: {img.shape}\\n\\t{img}\")\n",
    "print(f\"Label: {label.shape}\\n\\t{label}\")"
   ]
  },
  {
   "cell_type": "markdown",
   "metadata": {},
   "source": [
    "# Build the neural network\n",
    "\n",
    "## CNN Model"
   ]
  },
  {
   "cell_type": "code",
   "execution_count": null,
   "metadata": {},
   "outputs": [],
   "source": [
    "# Four-layer convolution\n",
    "class CNN(nn.Module):\n",
    "    def __init__(self):\n",
    "        super(CNN, self).__init__()\n",
    "        ## by HB\n",
    "        # self.conv1 = nn.Sequential(\n",
    "        #     nn.Conv2d(1, 4, kernel_size=4, padding=1),\n",
    "        #     nn.BatchNorm2d(4),\n",
    "        #     nn.ReLU(),\n",
    "        #     nn.MaxPool2d(2))\n",
    "        # self.conv2 = nn.Sequential(\n",
    "        #     nn.Conv2d(4, 8, kernel_size=4, padding=1),\n",
    "        #     nn.BatchNorm2d(8),\n",
    "        #     nn.ReLU(),\n",
    "        #     nn.MaxPool2d(2))\n",
    "        # self.fc = nn.Linear(3*3*8, 9)\n",
    "        \n",
    "        ## by Chen\n",
    "        self.conv1 = nn.Sequential(\n",
    "            nn.Conv2d(1, 4, kernel_size=3, padding=1),\n",
    "            nn.BatchNorm2d(4),\n",
    "            nn.ReLU(),\n",
    "            nn.MaxPool2d(2))\n",
    "        self.conv2 = nn.Sequential(\n",
    "            nn.Conv2d(4, 8, kernel_size=3, padding=1),\n",
    "            nn.BatchNorm2d(8),\n",
    "            nn.ReLU(),\n",
    "            nn.MaxPool2d(2))\n",
    "        self.conv3 = nn.Sequential(\n",
    "            nn.Conv2d(8, 16, kernel_size=3, padding=1),\n",
    "            nn.BatchNorm2d(16),\n",
    "            nn.ReLU(),\n",
    "            nn.MaxPool2d(2))\n",
    "        self.conv4 = nn.Sequential(\n",
    "            nn.Conv2d(16, 32, kernel_size=3, padding=1),\n",
    "            nn.BatchNorm2d(32),\n",
    "            nn.ReLU(),\n",
    "            nn.MaxPool2d(2))\n",
    "        self.fc = nn.Linear(32 * 1 * 1, 9)\n",
    "\n",
    "    def forward(self, x):\n",
    "        x = self.conv1(x)\n",
    "        x = self.conv2(x)\n",
    "        x = self.conv3(x)\n",
    "        x = self.conv4(x)\n",
    "        # print(x.shape)\n",
    "        x = x.view(x.size(0), -1) \n",
    "        # print(x.shape)\n",
    "        x = self.fc(x)\n",
    "        return x\n",
    "\n",
    "cnn = CNN()"
   ]
  },
  {
   "cell_type": "markdown",
   "metadata": {},
   "source": [
    "## Loss and Optimizer"
   ]
  },
  {
   "cell_type": "code",
   "execution_count": null,
   "metadata": {},
   "outputs": [],
   "source": [
    "loss_func = nn.CrossEntropyLoss()\n",
    "# optimizer = torch.optim.Adam(cnn.parameters(), lr=learning_rate)\n",
    "optimizer = torch.optim.SGD(cnn.parameters(), lr=learning_rate)\n",
    "scheduler = torch.optim.lr_scheduler.ExponentialLR(optimizer, gamma=0.1)"
   ]
  },
  {
   "cell_type": "markdown",
   "metadata": {},
   "source": [
    "# Train the model"
   ]
  },
  {
   "cell_type": "code",
   "execution_count": null,
   "metadata": {},
   "outputs": [],
   "source": [
    "for epoch in range(num_epochs):\n",
    "    for i, (train_features, train_labels) in enumerate(train_loader):\n",
    "        train_features = Variable(train_features)\n",
    "        # images = images.unsqueeze(dim=1)\n",
    "        train_features = train_features.float()\n",
    "        train_labels = Variable(train_labels)\n",
    "        # print(type(images), images)\n",
    "        # print(type(labels), labels)\n",
    "        # print(\"[ OK ] at this step\") \n",
    "\n",
    "        # Forward + Backward + Optimize\n",
    "        optimizer.zero_grad()\n",
    "        outputs = cnn(train_features)\n",
    "        loss = loss_func(outputs, train_labels)\n",
    "        loss.backward()\n",
    "        optimizer.step()\n",
    "\n",
    "        if (i + 1) % 100 == 0:\n",
    "            print('Epoch [%d/%d], Iter [%d/%d], Loss: %.4f'\n",
    "                  % (epoch + 1, num_epochs, i + 1, len(shmDS) // batch_size, loss.item()))\n",
    "    scheduler.step()"
   ]
  },
  {
   "cell_type": "markdown",
   "metadata": {},
   "source": [
    "# Test the model"
   ]
  },
  {
   "cell_type": "code",
   "execution_count": null,
   "metadata": {},
   "outputs": [],
   "source": [
    "cnn.eval()  # Change to test form, application scenarios such as: dropout\n",
    "correct = 0\n",
    "total = 0\n",
    "for test_features, test_labels in test_loader:\n",
    "    test_features = Variable(test_features)\n",
    "    test_features = test_features.float()\n",
    "    test_labels = Variable(test_labels)\n",
    "\n",
    "    outputs = cnn(test_features)\n",
    "    _, predicted = torch.max(outputs.data, 1)\n",
    "    total += test_labels.size(0)\n",
    "    correct += (predicted == test_labels.data).sum()\n",
    "    \n",
    "print(' Test Accuracy: %d %%' % (100 * correct / total))\n",
    "\n",
    "# Save the Trained Model\n",
    "# torch.save(cnn.state_dict(), 'cnn.pkl')"
   ]
  },
  {
   "cell_type": "markdown",
   "metadata": {},
   "source": [
    "# Debugging ..."
   ]
  },
  {
   "cell_type": "code",
   "execution_count": null,
   "metadata": {},
   "outputs": [],
   "source": [
    "print(\"The last batch size should be\", len(shmDS)%batch_size)\n",
    "print(\"outputs has a shape of:\", outputs.shape)\n",
    "print(\"\\tthe 1st item is:\", outputs[1].shape, outputs[1])\n",
    "\n",
    "print(\"predicted has a shape of:\", predicted.shape)\n",
    "print(\"\\tthe 1st item is:\", predicted[1].shape, predicted[1])\n",
    "\n",
    "print(\"test_labels has a shape of:\", test_labels.shape)\n",
    "print(\"\\tthe 1st item is:\", test_labels[1].shape, test_labels[1])"
   ]
  }
 ],
 "metadata": {
  "interpreter": {
   "hash": "3067ead486e059ec00ffe7555bdb889e6e264a24dc711bf108106cc7baee8d5d"
  },
  "kernelspec": {
   "display_name": "Python 3.8.8 64-bit ('base': conda)",
   "language": "python",
   "name": "python3"
  },
  "language_info": {
   "codemirror_mode": {
    "name": "ipython",
    "version": 3
   },
   "file_extension": ".py",
   "mimetype": "text/x-python",
   "name": "python",
   "nbconvert_exporter": "python",
   "pygments_lexer": "ipython3",
   "version": "3.8.12"
  },
  "orig_nbformat": 4
 },
 "nbformat": 4,
 "nbformat_minor": 2
}
