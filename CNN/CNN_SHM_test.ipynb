{
 "cells": [
  {
   "cell_type": "code",
   "execution_count": 55,
   "metadata": {},
   "outputs": [],
   "source": [
    "import torch\n",
    "import torch.nn as nn\n",
    "from torch.utils.data import Dataset, DataLoader\n",
    "from torch.autograd import Variable\n",
    "from pathlib import Path\n",
    "from matplotlib import pyplot as plt\n",
    "import pandas as pd\n",
    "import numpy as np\n",
    "import os"
   ]
  },
  {
   "cell_type": "markdown",
   "metadata": {},
   "source": [
    "# Pre-processing"
   ]
  },
  {
   "cell_type": "code",
   "execution_count": 61,
   "metadata": {},
   "outputs": [
    {
     "ename": "ValueError",
     "evalue": "Must pass 2-d input. shape=(2992, 8, 16)",
     "output_type": "error",
     "traceback": [
      "\u001b[0;31m---------------------------------------------------------------------------\u001b[0m",
      "\u001b[0;31mValueError\u001b[0m                                Traceback (most recent call last)",
      "\u001b[1;32m/Users/shic/Codes/homework/CNN/CNN_SHM_test.ipynb Cell 3'\u001b[0m in \u001b[0;36m<module>\u001b[0;34m\u001b[0m\n\u001b[1;32m     <a href='vscode-notebook-cell:/Users/shic/Codes/homework/CNN/CNN_SHM_test.ipynb#ch0000002?line=18'>19</a>\u001b[0m         feature \u001b[39m=\u001b[39m np\u001b[39m.\u001b[39marray(\u001b[39mself\u001b[39m\u001b[39m.\u001b[39mdata\u001b[39m.\u001b[39miloc[index])\n\u001b[1;32m     <a href='vscode-notebook-cell:/Users/shic/Codes/homework/CNN/CNN_SHM_test.ipynb#ch0000002?line=19'>20</a>\u001b[0m         \u001b[39mreturn\u001b[39;00m feature, label\n\u001b[0;32m---> <a href='vscode-notebook-cell:/Users/shic/Codes/homework/CNN/CNN_SHM_test.ipynb#ch0000002?line=21'>22</a>\u001b[0m shmDS \u001b[39m=\u001b[39m SHM_Dataset(\u001b[39m1\u001b[39;49m, \u001b[39m\"\u001b[39;49m\u001b[39m~/Codes/homework/data/SHM/shm01s.json\u001b[39;49m\u001b[39m\"\u001b[39;49m)\n\u001b[1;32m     <a href='vscode-notebook-cell:/Users/shic/Codes/homework/CNN/CNN_SHM_test.ipynb#ch0000002?line=23'>24</a>\u001b[0m train_loader \u001b[39m=\u001b[39m DataLoader(shmDS, batch_size\u001b[39m=\u001b[39m\u001b[39m32\u001b[39m, shuffle\u001b[39m=\u001b[39m\u001b[39mTrue\u001b[39;00m) \u001b[39m# split samples into mini-batches and reshuffle the data to reduce overfitting\u001b[39;00m\n\u001b[1;32m     <a href='vscode-notebook-cell:/Users/shic/Codes/homework/CNN/CNN_SHM_test.ipynb#ch0000002?line=24'>25</a>\u001b[0m test_loader \u001b[39m=\u001b[39m DataLoader(shmDS, batch_size\u001b[39m=\u001b[39m\u001b[39m32\u001b[39m, shuffle\u001b[39m=\u001b[39m\u001b[39mFalse\u001b[39;00m)\n",
      "\u001b[1;32m/Users/shic/Codes/homework/CNN/CNN_SHM_test.ipynb Cell 3'\u001b[0m in \u001b[0;36mSHM_Dataset.__init__\u001b[0;34m(self, case, data_file)\u001b[0m\n\u001b[1;32m      <a href='vscode-notebook-cell:/Users/shic/Codes/homework/CNN/CNN_SHM_test.ipynb#ch0000002?line=8'>9</a>\u001b[0m \u001b[39mself\u001b[39m\u001b[39m.\u001b[39mdata_df \u001b[39m=\u001b[39m pd\u001b[39m.\u001b[39mread_json(\u001b[39mself\u001b[39m\u001b[39m.\u001b[39mdata_file, dtype\u001b[39m=\u001b[39mnp\u001b[39m.\u001b[39marray)\n\u001b[1;32m     <a href='vscode-notebook-cell:/Users/shic/Codes/homework/CNN/CNN_SHM_test.ipynb#ch0000002?line=9'>10</a>\u001b[0m \u001b[39m# self.data = self.data_df.values.reshape(-1) # @Chen here I ONLY take a column of data as an example\u001b[39;00m\n\u001b[0;32m---> <a href='vscode-notebook-cell:/Users/shic/Codes/homework/CNN/CNN_SHM_test.ipynb#ch0000002?line=10'>11</a>\u001b[0m \u001b[39mself\u001b[39m\u001b[39m.\u001b[39mdata \u001b[39m=\u001b[39m pd\u001b[39m.\u001b[39;49mDataFrame(np\u001b[39m.\u001b[39;49marray([np\u001b[39m.\u001b[39;49marray(i) \u001b[39mfor\u001b[39;49;00m i \u001b[39min\u001b[39;49;00m \u001b[39mself\u001b[39;49m\u001b[39m.\u001b[39;49mdata_df\u001b[39m.\u001b[39;49mvalues\u001b[39m.\u001b[39;49mflatten()]))\n\u001b[1;32m     <a href='vscode-notebook-cell:/Users/shic/Codes/homework/CNN/CNN_SHM_test.ipynb#ch0000002?line=11'>12</a>\u001b[0m \u001b[39mself\u001b[39m\u001b[39m.\u001b[39mlabels \u001b[39m=\u001b[39m pd\u001b[39m.\u001b[39mDataFrame([\u001b[39mself\u001b[39m\u001b[39m.\u001b[39mcase,]\u001b[39m*\u001b[39m\u001b[39mself\u001b[39m\u001b[39m.\u001b[39mdata_df\u001b[39m.\u001b[39mshape[\u001b[39m0\u001b[39m]\u001b[39m*\u001b[39m\u001b[39mself\u001b[39m\u001b[39m.\u001b[39mdata_df\u001b[39m.\u001b[39mshape[\u001b[39m1\u001b[39m])\n",
      "File \u001b[0;32m/usr/local/anaconda3/envs/cshi/lib/python3.8/site-packages/pandas/core/frame.py:672\u001b[0m, in \u001b[0;36mDataFrame.__init__\u001b[0;34m(self, data, index, columns, dtype, copy)\u001b[0m\n\u001b[1;32m    <a href='file:///usr/local/anaconda3/envs/cshi/lib/python3.8/site-packages/pandas/core/frame.py?line=661'>662</a>\u001b[0m         mgr \u001b[39m=\u001b[39m dict_to_mgr(\n\u001b[1;32m    <a href='file:///usr/local/anaconda3/envs/cshi/lib/python3.8/site-packages/pandas/core/frame.py?line=662'>663</a>\u001b[0m             \u001b[39m# error: Item \"ndarray\" of \"Union[ndarray, Series, Index]\" has no\u001b[39;00m\n\u001b[1;32m    <a href='file:///usr/local/anaconda3/envs/cshi/lib/python3.8/site-packages/pandas/core/frame.py?line=663'>664</a>\u001b[0m             \u001b[39m# attribute \"name\"\u001b[39;00m\n\u001b[0;32m   (...)\u001b[0m\n\u001b[1;32m    <a href='file:///usr/local/anaconda3/envs/cshi/lib/python3.8/site-packages/pandas/core/frame.py?line=668'>669</a>\u001b[0m             typ\u001b[39m=\u001b[39mmanager,\n\u001b[1;32m    <a href='file:///usr/local/anaconda3/envs/cshi/lib/python3.8/site-packages/pandas/core/frame.py?line=669'>670</a>\u001b[0m         )\n\u001b[1;32m    <a href='file:///usr/local/anaconda3/envs/cshi/lib/python3.8/site-packages/pandas/core/frame.py?line=670'>671</a>\u001b[0m     \u001b[39melse\u001b[39;00m:\n\u001b[0;32m--> <a href='file:///usr/local/anaconda3/envs/cshi/lib/python3.8/site-packages/pandas/core/frame.py?line=671'>672</a>\u001b[0m         mgr \u001b[39m=\u001b[39m ndarray_to_mgr(\n\u001b[1;32m    <a href='file:///usr/local/anaconda3/envs/cshi/lib/python3.8/site-packages/pandas/core/frame.py?line=672'>673</a>\u001b[0m             data,\n\u001b[1;32m    <a href='file:///usr/local/anaconda3/envs/cshi/lib/python3.8/site-packages/pandas/core/frame.py?line=673'>674</a>\u001b[0m             index,\n\u001b[1;32m    <a href='file:///usr/local/anaconda3/envs/cshi/lib/python3.8/site-packages/pandas/core/frame.py?line=674'>675</a>\u001b[0m             columns,\n\u001b[1;32m    <a href='file:///usr/local/anaconda3/envs/cshi/lib/python3.8/site-packages/pandas/core/frame.py?line=675'>676</a>\u001b[0m             dtype\u001b[39m=\u001b[39;49mdtype,\n\u001b[1;32m    <a href='file:///usr/local/anaconda3/envs/cshi/lib/python3.8/site-packages/pandas/core/frame.py?line=676'>677</a>\u001b[0m             copy\u001b[39m=\u001b[39;49mcopy,\n\u001b[1;32m    <a href='file:///usr/local/anaconda3/envs/cshi/lib/python3.8/site-packages/pandas/core/frame.py?line=677'>678</a>\u001b[0m             typ\u001b[39m=\u001b[39;49mmanager,\n\u001b[1;32m    <a href='file:///usr/local/anaconda3/envs/cshi/lib/python3.8/site-packages/pandas/core/frame.py?line=678'>679</a>\u001b[0m         )\n\u001b[1;32m    <a href='file:///usr/local/anaconda3/envs/cshi/lib/python3.8/site-packages/pandas/core/frame.py?line=680'>681</a>\u001b[0m \u001b[39m# For data is list-like, or Iterable (will consume into list)\u001b[39;00m\n\u001b[1;32m    <a href='file:///usr/local/anaconda3/envs/cshi/lib/python3.8/site-packages/pandas/core/frame.py?line=681'>682</a>\u001b[0m \u001b[39melif\u001b[39;00m is_list_like(data):\n",
      "File \u001b[0;32m/usr/local/anaconda3/envs/cshi/lib/python3.8/site-packages/pandas/core/internals/construction.py:304\u001b[0m, in \u001b[0;36mndarray_to_mgr\u001b[0;34m(values, index, columns, dtype, copy, typ)\u001b[0m\n\u001b[1;32m    <a href='file:///usr/local/anaconda3/envs/cshi/lib/python3.8/site-packages/pandas/core/internals/construction.py?line=298'>299</a>\u001b[0m         values \u001b[39m=\u001b[39m values\u001b[39m.\u001b[39mreshape(\u001b[39m-\u001b[39m\u001b[39m1\u001b[39m, \u001b[39m1\u001b[39m)\n\u001b[1;32m    <a href='file:///usr/local/anaconda3/envs/cshi/lib/python3.8/site-packages/pandas/core/internals/construction.py?line=300'>301</a>\u001b[0m \u001b[39melse\u001b[39;00m:\n\u001b[1;32m    <a href='file:///usr/local/anaconda3/envs/cshi/lib/python3.8/site-packages/pandas/core/internals/construction.py?line=301'>302</a>\u001b[0m     \u001b[39m# by definition an array here\u001b[39;00m\n\u001b[1;32m    <a href='file:///usr/local/anaconda3/envs/cshi/lib/python3.8/site-packages/pandas/core/internals/construction.py?line=302'>303</a>\u001b[0m     \u001b[39m# the dtypes will be coerced to a single dtype\u001b[39;00m\n\u001b[0;32m--> <a href='file:///usr/local/anaconda3/envs/cshi/lib/python3.8/site-packages/pandas/core/internals/construction.py?line=303'>304</a>\u001b[0m     values \u001b[39m=\u001b[39m _prep_ndarray(values, copy\u001b[39m=\u001b[39;49mcopy)\n\u001b[1;32m    <a href='file:///usr/local/anaconda3/envs/cshi/lib/python3.8/site-packages/pandas/core/internals/construction.py?line=305'>306</a>\u001b[0m \u001b[39mif\u001b[39;00m dtype \u001b[39mis\u001b[39;00m \u001b[39mnot\u001b[39;00m \u001b[39mNone\u001b[39;00m \u001b[39mand\u001b[39;00m \u001b[39mnot\u001b[39;00m is_dtype_equal(values\u001b[39m.\u001b[39mdtype, dtype):\n\u001b[1;32m    <a href='file:///usr/local/anaconda3/envs/cshi/lib/python3.8/site-packages/pandas/core/internals/construction.py?line=306'>307</a>\u001b[0m     shape \u001b[39m=\u001b[39m values\u001b[39m.\u001b[39mshape\n",
      "File \u001b[0;32m/usr/local/anaconda3/envs/cshi/lib/python3.8/site-packages/pandas/core/internals/construction.py:555\u001b[0m, in \u001b[0;36m_prep_ndarray\u001b[0;34m(values, copy)\u001b[0m\n\u001b[1;32m    <a href='file:///usr/local/anaconda3/envs/cshi/lib/python3.8/site-packages/pandas/core/internals/construction.py?line=552'>553</a>\u001b[0m     values \u001b[39m=\u001b[39m values\u001b[39m.\u001b[39mreshape((values\u001b[39m.\u001b[39mshape[\u001b[39m0\u001b[39m], \u001b[39m1\u001b[39m))\n\u001b[1;32m    <a href='file:///usr/local/anaconda3/envs/cshi/lib/python3.8/site-packages/pandas/core/internals/construction.py?line=553'>554</a>\u001b[0m \u001b[39melif\u001b[39;00m values\u001b[39m.\u001b[39mndim \u001b[39m!=\u001b[39m \u001b[39m2\u001b[39m:\n\u001b[0;32m--> <a href='file:///usr/local/anaconda3/envs/cshi/lib/python3.8/site-packages/pandas/core/internals/construction.py?line=554'>555</a>\u001b[0m     \u001b[39mraise\u001b[39;00m \u001b[39mValueError\u001b[39;00m(\u001b[39mf\u001b[39m\u001b[39m\"\u001b[39m\u001b[39mMust pass 2-d input. shape=\u001b[39m\u001b[39m{\u001b[39;00mvalues\u001b[39m.\u001b[39mshape\u001b[39m}\u001b[39;00m\u001b[39m\"\u001b[39m)\n\u001b[1;32m    <a href='file:///usr/local/anaconda3/envs/cshi/lib/python3.8/site-packages/pandas/core/internals/construction.py?line=556'>557</a>\u001b[0m \u001b[39mreturn\u001b[39;00m values\n",
      "\u001b[0;31mValueError\u001b[0m: Must pass 2-d input. shape=(2992, 8, 16)"
     ]
    }
   ],
   "source": [
    "class SHM_Dataset(Dataset):\n",
    "    \"\"\" Prepare dataset for pytorch\n",
    "        Ref: https://pytorch.org/tutorials/beginner/basics/data_tutorial.html\n",
    "    \"\"\"\n",
    "\n",
    "    def __init__(self, case, data_file):\n",
    "        self.case = case\n",
    "        self.data_file = Path(data_file)\n",
    "        self.data_df = pd.read_json(self.data_file, dtype=np.array)\n",
    "        # self.data = self.data_df.values.reshape(-1) # @Chen here I ONLY take a column of data as an example\n",
    "        self.data = pd.DataFrame(np.array([np.array(i) for i in self.data_df.values.flatten()]))\n",
    "        self.labels = pd.DataFrame([self.case,]*self.data_df.shape[0]*self.data_df.shape[1]) # ONLY take a column as an example\n",
    "    \n",
    "    def __len__(self):\n",
    "        return self.labels.shape[0]\n",
    "\n",
    "    def __getitem__(self, index):\n",
    "        label = np.array(self.labels.iloc[index])\n",
    "        feature = np.array(self.data.iloc[index])\n",
    "        return feature, label\n",
    "\n",
    "shmDS = SHM_Dataset(1, \"~/Codes/homework/data/SHM/shm01s.json\")\n",
    "\n",
    "train_loader = DataLoader(shmDS, batch_size=32, shuffle=True) # split samples into mini-batches and reshuffle the data to reduce overfitting\n",
    "test_loader = DataLoader(shmDS, batch_size=32, shuffle=False)"
   ]
  },
  {
   "cell_type": "code",
   "execution_count": 57,
   "metadata": {},
   "outputs": [
    {
     "name": "stdout",
     "output_type": "stream",
     "text": [
      "<class 'list'>\n",
      "[[-0.0020818, -0.0021144, -0.0021016, -0.0024254, -0.002283, -0.0022006, -0.002391, -0.0022262, -0.0022094, -0.0022658, -0.0022518, -0.0022848, -0.0022878, -0.002281, -0.0023396, -0.002293], [-0.0022887999999999997, -0.0021839999999999997, -0.0022286, -0.0022114, -0.0022716, -0.0022635999999999997, -0.0023653999999999997, -0.0022175999999999997, -0.0023834, -0.0022221999999999997, -0.0022911999999999997, -0.00231, -0.0022459999999999997, -0.0023255999999999997, -0.0021584, -0.0024373999999999997], [-0.0020506, -0.0023041999999999997, -0.0023179999999999997, -0.002169, -0.0022854, -0.0022351999999999997, -0.0023103999999999998, -0.0020488, -0.0024089999999999997, -0.0021774, -0.0022605999999999998, -0.002348, -0.0021966, -0.0023967999999999997, -0.0021992, -0.0023384], [-0.0021379999999999997, -0.002241, -0.0021444, -0.0021601999999999997, -0.002333, -0.0022448, -0.0023312, -0.0021953999999999997, -0.0022166, -0.0023022, -0.0022408, -0.0021742, -0.0022258, -0.00238, -0.0020900000000000003, -0.0023592], [-0.002156, -0.002234, -0.0022392, -0.0022166, -0.0022688, -0.0021855999999999998, -0.0022605999999999998, -0.0022676, -0.0022932, -0.0021763999999999998, -0.0023775999999999997, -0.0021774, -0.002253, -0.0023564, -0.0022244, -0.002264], [-0.0022914, -0.0022589999999999997, -0.0023174, -0.0023, -0.002234, -0.0023344, -0.0022112, -0.0022172, -0.0023546, -0.0021852, -0.0022926, -0.002301, -0.0022924, -0.0023666, -0.0022624, -0.0022697999999999998], [-0.0023366, -0.0022286, -0.0022204, -0.002353, -0.0022178, -0.0022467999999999998, -0.0023076, -0.0021898, -0.00233, -0.0022688, -0.0020992, -0.0024116, -0.0022118, -0.0021885999999999997, -0.0023393999999999997, -0.0022482], [-0.0022572, -0.002401, -0.0021724, -0.0022868, -0.0022832, -0.0020778, -0.0024194, -0.0020552, -0.0022313999999999997, -0.002162, -0.0022924, -0.0023174, -0.002303, -0.0022746, -0.0022072, -0.0024397999999999998]]\n",
      "<class 'numpy.ndarray'>\n",
      "[[-0.0020818 -0.0021144 -0.0021016 -0.0024254 -0.002283  -0.0022006\n",
      "  -0.002391  -0.0022262 -0.0022094 -0.0022658 -0.0022518 -0.0022848\n",
      "  -0.0022878 -0.002281  -0.0023396 -0.002293 ]\n",
      " [-0.0022888 -0.002184  -0.0022286 -0.0022114 -0.0022716 -0.0022636\n",
      "  -0.0023654 -0.0022176 -0.0023834 -0.0022222 -0.0022912 -0.00231\n",
      "  -0.002246  -0.0023256 -0.0021584 -0.0024374]\n",
      " [-0.0020506 -0.0023042 -0.002318  -0.002169  -0.0022854 -0.0022352\n",
      "  -0.0023104 -0.0020488 -0.002409  -0.0021774 -0.0022606 -0.002348\n",
      "  -0.0021966 -0.0023968 -0.0021992 -0.0023384]\n",
      " [-0.002138  -0.002241  -0.0021444 -0.0021602 -0.002333  -0.0022448\n",
      "  -0.0023312 -0.0021954 -0.0022166 -0.0023022 -0.0022408 -0.0021742\n",
      "  -0.0022258 -0.00238   -0.00209   -0.0023592]\n",
      " [-0.002156  -0.002234  -0.0022392 -0.0022166 -0.0022688 -0.0021856\n",
      "  -0.0022606 -0.0022676 -0.0022932 -0.0021764 -0.0023776 -0.0021774\n",
      "  -0.002253  -0.0023564 -0.0022244 -0.002264 ]\n",
      " [-0.0022914 -0.002259  -0.0023174 -0.0023    -0.002234  -0.0023344\n",
      "  -0.0022112 -0.0022172 -0.0023546 -0.0021852 -0.0022926 -0.002301\n",
      "  -0.0022924 -0.0023666 -0.0022624 -0.0022698]\n",
      " [-0.0023366 -0.0022286 -0.0022204 -0.002353  -0.0022178 -0.0022468\n",
      "  -0.0023076 -0.0021898 -0.00233   -0.0022688 -0.0020992 -0.0024116\n",
      "  -0.0022118 -0.0021886 -0.0023394 -0.0022482]\n",
      " [-0.0022572 -0.002401  -0.0021724 -0.0022868 -0.0022832 -0.0020778\n",
      "  -0.0024194 -0.0020552 -0.0022314 -0.002162  -0.0022924 -0.0023174\n",
      "  -0.002303  -0.0022746 -0.0022072 -0.0024398]]\n",
      "<class 'numpy.ndarray'>\n"
     ]
    }
   ],
   "source": [
    "print(type(shmDS.data_df.iloc[0,1]))\n",
    "print(shmDS.data_df.iloc[0,1])\n",
    "print(type(shmDS.data[0]))\n",
    "print(shmDS.data[1])\n",
    "print(type(shmDS.data))"
   ]
  },
  {
   "cell_type": "markdown",
   "metadata": {},
   "source": [
    "Let's have a look on a single sample:"
   ]
  },
  {
   "cell_type": "code",
   "execution_count": 58,
   "metadata": {},
   "outputs": [
    {
     "ename": "AttributeError",
     "evalue": "'numpy.ndarray' object has no attribute 'iloc'",
     "output_type": "error",
     "traceback": [
      "\u001b[0;31m---------------------------------------------------------------------------\u001b[0m",
      "\u001b[0;31mAttributeError\u001b[0m                            Traceback (most recent call last)",
      "\u001b[1;32m/Users/shic/Codes/homework/CNN/CNN_SHM_test.ipynb Cell 6'\u001b[0m in \u001b[0;36m<module>\u001b[0;34m\u001b[0m\n\u001b[0;32m----> <a href='vscode-notebook-cell:/Users/shic/Codes/homework/CNN/CNN_SHM_test.ipynb#ch0000004?line=0'>1</a>\u001b[0m train_features, train_labels \u001b[39m=\u001b[39m \u001b[39mnext\u001b[39;49m(\u001b[39miter\u001b[39;49m(train_loader))\n\u001b[1;32m      <a href='vscode-notebook-cell:/Users/shic/Codes/homework/CNN/CNN_SHM_test.ipynb#ch0000004?line=1'>2</a>\u001b[0m train_features \u001b[39m=\u001b[39m train_features\u001b[39m.\u001b[39munsqueeze(dim\u001b[39m=\u001b[39m\u001b[39m1\u001b[39m)\n\u001b[1;32m      <a href='vscode-notebook-cell:/Users/shic/Codes/homework/CNN/CNN_SHM_test.ipynb#ch0000004?line=2'>3</a>\u001b[0m \u001b[39mprint\u001b[39m(\u001b[39mf\u001b[39m\u001b[39m\"\u001b[39m\u001b[39mFeature batch shape: \u001b[39m\u001b[39m{\u001b[39;00mtrain_features\u001b[39m.\u001b[39msize()\u001b[39m}\u001b[39;00m\u001b[39m\"\u001b[39m)\n",
      "File \u001b[0;32m/usr/local/anaconda3/envs/cshi/lib/python3.8/site-packages/torch/utils/data/dataloader.py:521\u001b[0m, in \u001b[0;36m_BaseDataLoaderIter.__next__\u001b[0;34m(self)\u001b[0m\n\u001b[1;32m    <a href='file:///usr/local/anaconda3/envs/cshi/lib/python3.8/site-packages/torch/utils/data/dataloader.py?line=518'>519</a>\u001b[0m \u001b[39mif\u001b[39;00m \u001b[39mself\u001b[39m\u001b[39m.\u001b[39m_sampler_iter \u001b[39mis\u001b[39;00m \u001b[39mNone\u001b[39;00m:\n\u001b[1;32m    <a href='file:///usr/local/anaconda3/envs/cshi/lib/python3.8/site-packages/torch/utils/data/dataloader.py?line=519'>520</a>\u001b[0m     \u001b[39mself\u001b[39m\u001b[39m.\u001b[39m_reset()\n\u001b[0;32m--> <a href='file:///usr/local/anaconda3/envs/cshi/lib/python3.8/site-packages/torch/utils/data/dataloader.py?line=520'>521</a>\u001b[0m data \u001b[39m=\u001b[39m \u001b[39mself\u001b[39;49m\u001b[39m.\u001b[39;49m_next_data()\n\u001b[1;32m    <a href='file:///usr/local/anaconda3/envs/cshi/lib/python3.8/site-packages/torch/utils/data/dataloader.py?line=521'>522</a>\u001b[0m \u001b[39mself\u001b[39m\u001b[39m.\u001b[39m_num_yielded \u001b[39m+\u001b[39m\u001b[39m=\u001b[39m \u001b[39m1\u001b[39m\n\u001b[1;32m    <a href='file:///usr/local/anaconda3/envs/cshi/lib/python3.8/site-packages/torch/utils/data/dataloader.py?line=522'>523</a>\u001b[0m \u001b[39mif\u001b[39;00m \u001b[39mself\u001b[39m\u001b[39m.\u001b[39m_dataset_kind \u001b[39m==\u001b[39m _DatasetKind\u001b[39m.\u001b[39mIterable \u001b[39mand\u001b[39;00m \\\n\u001b[1;32m    <a href='file:///usr/local/anaconda3/envs/cshi/lib/python3.8/site-packages/torch/utils/data/dataloader.py?line=523'>524</a>\u001b[0m         \u001b[39mself\u001b[39m\u001b[39m.\u001b[39m_IterableDataset_len_called \u001b[39mis\u001b[39;00m \u001b[39mnot\u001b[39;00m \u001b[39mNone\u001b[39;00m \u001b[39mand\u001b[39;00m \\\n\u001b[1;32m    <a href='file:///usr/local/anaconda3/envs/cshi/lib/python3.8/site-packages/torch/utils/data/dataloader.py?line=524'>525</a>\u001b[0m         \u001b[39mself\u001b[39m\u001b[39m.\u001b[39m_num_yielded \u001b[39m>\u001b[39m \u001b[39mself\u001b[39m\u001b[39m.\u001b[39m_IterableDataset_len_called:\n",
      "File \u001b[0;32m/usr/local/anaconda3/envs/cshi/lib/python3.8/site-packages/torch/utils/data/dataloader.py:561\u001b[0m, in \u001b[0;36m_SingleProcessDataLoaderIter._next_data\u001b[0;34m(self)\u001b[0m\n\u001b[1;32m    <a href='file:///usr/local/anaconda3/envs/cshi/lib/python3.8/site-packages/torch/utils/data/dataloader.py?line=558'>559</a>\u001b[0m \u001b[39mdef\u001b[39;00m \u001b[39m_next_data\u001b[39m(\u001b[39mself\u001b[39m):\n\u001b[1;32m    <a href='file:///usr/local/anaconda3/envs/cshi/lib/python3.8/site-packages/torch/utils/data/dataloader.py?line=559'>560</a>\u001b[0m     index \u001b[39m=\u001b[39m \u001b[39mself\u001b[39m\u001b[39m.\u001b[39m_next_index()  \u001b[39m# may raise StopIteration\u001b[39;00m\n\u001b[0;32m--> <a href='file:///usr/local/anaconda3/envs/cshi/lib/python3.8/site-packages/torch/utils/data/dataloader.py?line=560'>561</a>\u001b[0m     data \u001b[39m=\u001b[39m \u001b[39mself\u001b[39;49m\u001b[39m.\u001b[39;49m_dataset_fetcher\u001b[39m.\u001b[39;49mfetch(index)  \u001b[39m# may raise StopIteration\u001b[39;00m\n\u001b[1;32m    <a href='file:///usr/local/anaconda3/envs/cshi/lib/python3.8/site-packages/torch/utils/data/dataloader.py?line=561'>562</a>\u001b[0m     \u001b[39mif\u001b[39;00m \u001b[39mself\u001b[39m\u001b[39m.\u001b[39m_pin_memory:\n\u001b[1;32m    <a href='file:///usr/local/anaconda3/envs/cshi/lib/python3.8/site-packages/torch/utils/data/dataloader.py?line=562'>563</a>\u001b[0m         data \u001b[39m=\u001b[39m _utils\u001b[39m.\u001b[39mpin_memory\u001b[39m.\u001b[39mpin_memory(data)\n",
      "File \u001b[0;32m/usr/local/anaconda3/envs/cshi/lib/python3.8/site-packages/torch/utils/data/_utils/fetch.py:49\u001b[0m, in \u001b[0;36m_MapDatasetFetcher.fetch\u001b[0;34m(self, possibly_batched_index)\u001b[0m\n\u001b[1;32m     <a href='file:///usr/local/anaconda3/envs/cshi/lib/python3.8/site-packages/torch/utils/data/_utils/fetch.py?line=46'>47</a>\u001b[0m \u001b[39mdef\u001b[39;00m \u001b[39mfetch\u001b[39m(\u001b[39mself\u001b[39m, possibly_batched_index):\n\u001b[1;32m     <a href='file:///usr/local/anaconda3/envs/cshi/lib/python3.8/site-packages/torch/utils/data/_utils/fetch.py?line=47'>48</a>\u001b[0m     \u001b[39mif\u001b[39;00m \u001b[39mself\u001b[39m\u001b[39m.\u001b[39mauto_collation:\n\u001b[0;32m---> <a href='file:///usr/local/anaconda3/envs/cshi/lib/python3.8/site-packages/torch/utils/data/_utils/fetch.py?line=48'>49</a>\u001b[0m         data \u001b[39m=\u001b[39m [\u001b[39mself\u001b[39m\u001b[39m.\u001b[39mdataset[idx] \u001b[39mfor\u001b[39;00m idx \u001b[39min\u001b[39;00m possibly_batched_index]\n\u001b[1;32m     <a href='file:///usr/local/anaconda3/envs/cshi/lib/python3.8/site-packages/torch/utils/data/_utils/fetch.py?line=49'>50</a>\u001b[0m     \u001b[39melse\u001b[39;00m:\n\u001b[1;32m     <a href='file:///usr/local/anaconda3/envs/cshi/lib/python3.8/site-packages/torch/utils/data/_utils/fetch.py?line=50'>51</a>\u001b[0m         data \u001b[39m=\u001b[39m \u001b[39mself\u001b[39m\u001b[39m.\u001b[39mdataset[possibly_batched_index]\n",
      "File \u001b[0;32m/usr/local/anaconda3/envs/cshi/lib/python3.8/site-packages/torch/utils/data/_utils/fetch.py:49\u001b[0m, in \u001b[0;36m<listcomp>\u001b[0;34m(.0)\u001b[0m\n\u001b[1;32m     <a href='file:///usr/local/anaconda3/envs/cshi/lib/python3.8/site-packages/torch/utils/data/_utils/fetch.py?line=46'>47</a>\u001b[0m \u001b[39mdef\u001b[39;00m \u001b[39mfetch\u001b[39m(\u001b[39mself\u001b[39m, possibly_batched_index):\n\u001b[1;32m     <a href='file:///usr/local/anaconda3/envs/cshi/lib/python3.8/site-packages/torch/utils/data/_utils/fetch.py?line=47'>48</a>\u001b[0m     \u001b[39mif\u001b[39;00m \u001b[39mself\u001b[39m\u001b[39m.\u001b[39mauto_collation:\n\u001b[0;32m---> <a href='file:///usr/local/anaconda3/envs/cshi/lib/python3.8/site-packages/torch/utils/data/_utils/fetch.py?line=48'>49</a>\u001b[0m         data \u001b[39m=\u001b[39m [\u001b[39mself\u001b[39;49m\u001b[39m.\u001b[39;49mdataset[idx] \u001b[39mfor\u001b[39;00m idx \u001b[39min\u001b[39;00m possibly_batched_index]\n\u001b[1;32m     <a href='file:///usr/local/anaconda3/envs/cshi/lib/python3.8/site-packages/torch/utils/data/_utils/fetch.py?line=49'>50</a>\u001b[0m     \u001b[39melse\u001b[39;00m:\n\u001b[1;32m     <a href='file:///usr/local/anaconda3/envs/cshi/lib/python3.8/site-packages/torch/utils/data/_utils/fetch.py?line=50'>51</a>\u001b[0m         data \u001b[39m=\u001b[39m \u001b[39mself\u001b[39m\u001b[39m.\u001b[39mdataset[possibly_batched_index]\n",
      "\u001b[1;32m/Users/shic/Codes/homework/CNN/CNN_SHM_test.ipynb Cell 3'\u001b[0m in \u001b[0;36mSHM_Dataset.__getitem__\u001b[0;34m(self, index)\u001b[0m\n\u001b[1;32m     <a href='vscode-notebook-cell:/Users/shic/Codes/homework/CNN/CNN_SHM_test.ipynb#ch0000002?line=16'>17</a>\u001b[0m \u001b[39mdef\u001b[39;00m \u001b[39m__getitem__\u001b[39m(\u001b[39mself\u001b[39m, index):\n\u001b[1;32m     <a href='vscode-notebook-cell:/Users/shic/Codes/homework/CNN/CNN_SHM_test.ipynb#ch0000002?line=17'>18</a>\u001b[0m     label \u001b[39m=\u001b[39m np\u001b[39m.\u001b[39marray(\u001b[39mself\u001b[39m\u001b[39m.\u001b[39mlabels\u001b[39m.\u001b[39miloc[index])\n\u001b[0;32m---> <a href='vscode-notebook-cell:/Users/shic/Codes/homework/CNN/CNN_SHM_test.ipynb#ch0000002?line=18'>19</a>\u001b[0m     feature \u001b[39m=\u001b[39m np\u001b[39m.\u001b[39marray(\u001b[39mself\u001b[39;49m\u001b[39m.\u001b[39;49mdata\u001b[39m.\u001b[39;49miloc[index])\n\u001b[1;32m     <a href='vscode-notebook-cell:/Users/shic/Codes/homework/CNN/CNN_SHM_test.ipynb#ch0000002?line=19'>20</a>\u001b[0m     \u001b[39mreturn\u001b[39;00m feature, label\n",
      "\u001b[0;31mAttributeError\u001b[0m: 'numpy.ndarray' object has no attribute 'iloc'"
     ]
    }
   ],
   "source": [
    "train_features, train_labels = next(iter(train_loader))\n",
    "train_features = train_features.unsqueeze(dim=1)\n",
    "print(f\"Feature batch shape: {train_features.size()}\")\n",
    "print(f\"Labels batch shape: {train_labels.size()}\")\n",
    "\n",
    "# img = train_features[0].squeeze()\n",
    "# label = train_labels[0]\n",
    "# fig, axis = plt.subplots()\n",
    "# axis.imshow(img, cmap=\"gray\")\n",
    "# axis.set(title=f\"Label: {label}\", xticks=range(16), yticks=range(8))\n",
    "# plt.show()\n"
   ]
  },
  {
   "cell_type": "markdown",
   "metadata": {},
   "source": [
    "# Build the neural network\n",
    "\n",
    "## CNN Model"
   ]
  },
  {
   "cell_type": "code",
   "execution_count": null,
   "metadata": {},
   "outputs": [],
   "source": [
    "# Two-layer convolution\n",
    "class CNN(nn.Module):\n",
    "    def __init__(self):\n",
    "        super(CNN, self).__init__()\n",
    "        # Quick build with sequence tools\n",
    "        self.conv1 = nn.Sequential(\n",
    "            nn.Conv2d(1, 16, kernel_size=2, padding=2),\n",
    "            nn.BatchNorm2d(16),\n",
    "            nn.ReLU(),\n",
    "            nn.MaxPool2d(2))\n",
    "        self.conv2 = nn.Sequential(\n",
    "            nn.Conv2d(16, 32, kernel_size=5, padding=2),\n",
    "            nn.BatchNorm2d(32),\n",
    "            nn.ReLU(),\n",
    "            nn.MaxPool2d(2))\n",
    "        self.fc = nn.Linear(2 * 4 * 32, 10)\n",
    "\n",
    "    def forward(self, x):\n",
    "        out = self.conv1(x)\n",
    "        out = self.conv2(out)\n",
    "        out = out.view(out.size(0), -1)  # reshape\n",
    "        out = self.fc(out)\n",
    "        return out\n",
    "\n",
    "cnn = CNN()"
   ]
  },
  {
   "cell_type": "markdown",
   "metadata": {},
   "source": [
    "## Loss and Optimizer"
   ]
  },
  {
   "cell_type": "code",
   "execution_count": null,
   "metadata": {},
   "outputs": [],
   "source": [
    "# Hyper Parameters\n",
    "num_epochs = 5\n",
    "batch_size = 100\n",
    "learning_rate = 0.001\n",
    "\n",
    "loss_func = nn.CrossEntropyLoss()\n",
    "optimizer = torch.optim.Adam(cnn.parameters(), lr=learning_rate)"
   ]
  },
  {
   "cell_type": "markdown",
   "metadata": {},
   "source": [
    "# Train the model"
   ]
  },
  {
   "cell_type": "code",
   "execution_count": null,
   "metadata": {},
   "outputs": [],
   "source": [
    "for epoch in range(num_epochs):\n",
    "    for i, (images, labels) in enumerate(train_loader):\n",
    "        images = Variable(images)\n",
    "        images = images.unsqueeze(dim=1)\n",
    "        images = images.float()\n",
    "        labels = Variable(labels)\n",
    "        print(type(images), images)\n",
    "        print(type(labels), labels)\n",
    "        print(\"[ OK ] at this step\") \n",
    "\n",
    "        # Forward + Backward + Optimize\n",
    "        optimizer.zero_grad()\n",
    "        outputs = cnn(images)\n",
    "        # loss = loss_func(outputs, labels)\n",
    "        loss = loss_func(outputs, torch.max(labels, 1)[1])\n",
    "        loss.backward()\n",
    "        optimizer.step()\n",
    "\n",
    "        if (i + 1) % 100 == 0:\n",
    "            print('Epoch [%d/%d], Iter [%d/%d] Loss: %.4f'\n",
    "                  % (epoch + 1, num_epochs, i + 1, len(train_dataset) // batch_size, loss.item()))"
   ]
  },
  {
   "cell_type": "markdown",
   "metadata": {},
   "source": [
    "# Test the model"
   ]
  },
  {
   "cell_type": "code",
   "execution_count": null,
   "metadata": {},
   "outputs": [],
   "source": [
    "cnn.eval()  # Change to test form, application scenarios such as: dropout\n",
    "correct = 0\n",
    "total = 0\n",
    "for images, labels in test_loader:\n",
    "    images = Variable(images)\n",
    "    images = images.unsqueeze(dim=1)\n",
    "    images = images.float()\n",
    "    labels = Variable(labels)\n",
    "\n",
    "    outputs = cnn(images)\n",
    "    _, predicted = torch.max(outputs.data, 1)\n",
    "    total += labels.size(0)\n",
    "    correct += (predicted == labels.data).sum()\n",
    "\n",
    "print(' Test Accuracy: %d %%' % (100 * correct / total))\n",
    "\n",
    "# Save the Trained Model\n",
    "torch.save(cnn.state_dict(), 'cnn.pkl')"
   ]
  }
 ],
 "metadata": {
  "interpreter": {
   "hash": "3067ead486e059ec00ffe7555bdb889e6e264a24dc711bf108106cc7baee8d5d"
  },
  "kernelspec": {
   "display_name": "Python 3.8.8 64-bit ('base': conda)",
   "language": "python",
   "name": "python3"
  },
  "language_info": {
   "codemirror_mode": {
    "name": "ipython",
    "version": 3
   },
   "file_extension": ".py",
   "mimetype": "text/x-python",
   "name": "python",
   "nbconvert_exporter": "python",
   "pygments_lexer": "ipython3",
   "version": "3.8.12"
  },
  "orig_nbformat": 4
 },
 "nbformat": 4,
 "nbformat_minor": 2
}
